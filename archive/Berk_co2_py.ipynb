{
 "cells": [
  {
   "cell_type": "code",
   "execution_count": null,
   "metadata": {
    "collapsed": true
   },
   "outputs": [],
   "source": [
    "https://github.com/hausfath/SimMod"
   ]
  },
  {
   "cell_type": "code",
   "execution_count": null,
   "metadata": {
    "collapsed": true
   },
   "outputs": [],
   "source": [
    "import pandas as pd\n",
    "import numpy as np\n",
    "from constants import *\n",
    "\n",
    "\n",
    "def emissions(run_start_year, run_end_year, dt, rcp, add_start = 0, \n",
    "              add_end = 0, c_add = 0, ch4_add = 0, n2o_add = 0):\n",
    "    \"\"\"\n",
    "    Take annual emissions from a RCP scenario and return\n",
    "    emissions by specified start date, end date, and time step\n",
    "    \"\"\"\n",
    "    run_years = run_end_year - run_start_year + 1 \n",
    "    rcp_emissions = pd.read_csv('emissions/rcp_'+rcp+'_data.csv', sep=',')\n",
    "    historic_emissions = pd.read_csv('emissions/historical_ghgs.csv', sep=',')\n",
    "    emissions = rcp_emissions.append(historic_emissions, ignore_index=True)\n",
    "    emissions.sort(columns='year', inplace=True)\n",
    "    emissions.reset_index(inplace=True)\n",
    "    if add_start > 0:\n",
    "        emissions.loc[(\n",
    "            (emissions['year'] >= add_start) & (emissions['year'] <= add_end), \n",
    "            'c_emissions_pg')] = emissions['c_emissions_pg'] + c_add\n",
    "        emissions.loc[(\n",
    "            (emissions['year'] >= add_start) & (emissions['year'] <= add_end), \n",
    "            'ch4_emissions_tg')] = emissions['ch4_emissions_tg'] + ch4_add\n",
    "        emissions.loc[(\n",
    "            (emissions['year'] >= add_start) & (emissions['year'] <= add_end), \n",
    "            'n2o_emissions_tg')] = emissions['n2o_emissions_tg'] + n2o_add\n",
    "    \n",
    "    total_years = emissions.shape[0]\n",
    "    subset = emissions[int(run_start_year - 1765):int(run_end_year - 1765 + 1)]\n",
    "    subset.reset_index(inplace=True)\n",
    "    date = np.array([np.arange(0, run_years, dt)]).T\n",
    "    columns = ['date']\n",
    "    df = pd.DataFrame(date, columns=columns)\n",
    "    steps = df.shape[0]\n",
    "\n",
    "    for t in range(0,int(steps)):\n",
    "        df.ix[t, 'year'] = subset['year'][int(df['date'][t])]\n",
    "        df.ix[t, 'co2_pg'] = subset['c_emissions_pg'][int(df['date'][t])] * dt * C_TO_CO2\n",
    "        df.ix[t, 'ch4_tg'] = subset['ch4_emissions_tg'][int(df['date'][t])] * dt\n",
    "        df.ix[t, 'n2o_tg'] = subset['n2o_emissions_tg'][int(df['date'][t])] * dt\n",
    "        df.ix[t, 'hist_forcing_wm2'] = subset['hist_forcing_wm2'][int(df['date'][t])]\n",
    "        df.ix[t, 'co2_forcing_rcp'] = subset['co2_forcing_wm2'][int(df['date'][t])]\n",
    "        df.ix[t, 'ch4_forcing_rcp'] = subset['ch4_forcing_wm2'][int(df['date'][t])]\n",
    "        df.ix[t, 'n2o_forcing_rcp'] = subset['n2o_forcing_wm2'][int(df['date'][t])]\n",
    "        df.ix[t, 'total_forcing_rcp'] = subset['total_forcing_wm2'][int(df['date'][t])]\n",
    "        df.ix[t, 'rcp_co2_ppm'] = subset['co2_concentration_ppm'][int(df['date'][t])]\n",
    "        df.ix[t, 'rcp_ch4_ppb'] = subset['ch4_concentration_ppb'][int(df['date'][t])]\n",
    "        df.ix[t, 'rcp_n2o_ppb'] = subset['n2o_concentration_ppb'][int(df['date'][t])]\n",
    "    \n",
    "    df['rcp_co2_ppm'].fillna(CO2_PPM_1750, inplace=True)\n",
    "    df['rcp_ch4_ppb'].fillna(CH4_PPB_1750, inplace=True)\n",
    "    df['rcp_n2o_ppb'].fillna(N2O_PPB_1750, inplace=True)\n",
    "    \n",
    "    return df"
   ]
  }
 ],
 "metadata": {
  "kernelspec": {
   "display_name": "Python 3",
   "language": "python",
   "name": "python3"
  },
  "language_info": {
   "codemirror_mode": {
    "name": "ipython",
    "version": 3
   },
   "file_extension": ".py",
   "mimetype": "text/x-python",
   "name": "python",
   "nbconvert_exporter": "python",
   "pygments_lexer": "ipython3",
   "version": "3.6.1"
  }
 },
 "nbformat": 4,
 "nbformat_minor": 2
}
