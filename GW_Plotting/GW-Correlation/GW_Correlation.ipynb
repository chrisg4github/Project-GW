{
 "cells": [
  {
   "cell_type": "markdown",
   "metadata": {},
   "source": [
    "### Countries with co2 data in 1850\n",
    "HUNGARY, \n",
    "CANADA,\n",
    "USSR,\n",
    "NORWAY,\n",
    "SWEDEN,\n",
    "DENMARK,\n",
    "IRELAND,\n",
    "SPAIN,\n",
    "AUSTRIA,\n",
    "NETHERLANDS,\n",
    "POLAND,\n",
    "BELGIUM,\n",
    "GERMANY,\n",
    "FRANCE,\n",
    "USA,\n",
    "UK\n"
   ]
  },
  {
   "cell_type": "code",
   "execution_count": 1,
   "metadata": {
    "collapsed": true
   },
   "outputs": [],
   "source": [
    "import pandas as pd\n",
    "import numpy as np\n",
    "import scipy as sp\n",
    "# https://matplotlib.org/examples/color/named_colors.html"
   ]
  },
  {
   "cell_type": "code",
   "execution_count": null,
   "metadata": {
    "collapsed": true
   },
   "outputs": [],
   "source": []
  }
 ],
 "metadata": {
  "kernelspec": {
   "display_name": "Python 3",
   "language": "python",
   "name": "python3"
  },
  "language_info": {
   "codemirror_mode": {
    "name": "ipython",
    "version": 3
   },
   "file_extension": ".py",
   "mimetype": "text/x-python",
   "name": "python",
   "nbconvert_exporter": "python",
   "pygments_lexer": "ipython3",
   "version": "3.6.1"
  }
 },
 "nbformat": 4,
 "nbformat_minor": 2
}
