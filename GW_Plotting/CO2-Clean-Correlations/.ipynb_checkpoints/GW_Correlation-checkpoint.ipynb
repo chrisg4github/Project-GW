{
 "cells": [
  {
   "cell_type": "markdown",
   "metadata": {},
   "source": [
    "### Countries with co2 data in 1850\n",
    "HUNGARY, \n",
    "CANADA,\n",
    "USSR,\n",
    "NORWAY,\n",
    "SWEDEN,\n",
    "DENMARK,\n",
    "IRELAND,\n",
    "SPAIN,\n",
    "AUSTRIA,\n",
    "NETHERLANDS,\n",
    "POLAND,\n",
    "BELGIUM,\n",
    "GERMANY,\n",
    "FRANCE,\n",
    "USA,\n",
    "UK\n"
   ]
  },
  {
   "cell_type": "code",
   "execution_count": 13,
   "metadata": {
    "collapsed": true
   },
   "outputs": [],
   "source": [
    "import pandas as pd\n",
    "import numpy as np\n",
    "import scipy as sp"
   ]
  },
  {
   "cell_type": "code",
   "execution_count": 17,
   "metadata": {},
   "outputs": [
    {
     "name": "stdout",
     "output_type": "stream",
     "text": [
      "<class 'pandas.core.frame.DataFrame'>\n",
      "RangeIndex: 17232 entries, 0 to 17231\n",
      "Data columns (total 3 columns):\n",
      "year       17232 non-null object\n",
      "country    17232 non-null object\n",
      "co2        17232 non-null object\n",
      "dtypes: object(3)\n",
      "memory usage: 404.0+ KB\n"
     ]
    },
    {
     "data": {
      "text/html": [
       "<div>\n",
       "<style>\n",
       "    .dataframe thead tr:only-child th {\n",
       "        text-align: right;\n",
       "    }\n",
       "\n",
       "    .dataframe thead th {\n",
       "        text-align: left;\n",
       "    }\n",
       "\n",
       "    .dataframe tbody tr th {\n",
       "        vertical-align: top;\n",
       "    }\n",
       "</style>\n",
       "<table border=\"1\" class=\"dataframe\">\n",
       "  <thead>\n",
       "    <tr style=\"text-align: right;\">\n",
       "      <th></th>\n",
       "      <th>year</th>\n",
       "      <th>country</th>\n",
       "      <th>co2</th>\n",
       "    </tr>\n",
       "  </thead>\n",
       "  <tbody>\n",
       "    <tr>\n",
       "      <th>0</th>\n",
       "      <td>1751</td>\n",
       "      <td>UNITED KINGDOM</td>\n",
       "      <td>2552</td>\n",
       "    </tr>\n",
       "    <tr>\n",
       "      <th>1</th>\n",
       "      <td>1752</td>\n",
       "      <td>UNITED KINGDOM</td>\n",
       "      <td>2553</td>\n",
       "    </tr>\n",
       "    <tr>\n",
       "      <th>2</th>\n",
       "      <td>1753</td>\n",
       "      <td>UNITED KINGDOM</td>\n",
       "      <td>2553</td>\n",
       "    </tr>\n",
       "    <tr>\n",
       "      <th>3</th>\n",
       "      <td>1754</td>\n",
       "      <td>UNITED KINGDOM</td>\n",
       "      <td>2554</td>\n",
       "    </tr>\n",
       "    <tr>\n",
       "      <th>4</th>\n",
       "      <td>1755</td>\n",
       "      <td>UNITED KINGDOM</td>\n",
       "      <td>2555</td>\n",
       "    </tr>\n",
       "  </tbody>\n",
       "</table>\n",
       "</div>"
      ],
      "text/plain": [
       "   year         country   co2\n",
       "0  1751  UNITED KINGDOM  2552\n",
       "1  1752  UNITED KINGDOM  2553\n",
       "2  1753  UNITED KINGDOM  2553\n",
       "3  1754  UNITED KINGDOM  2554\n",
       "4  1755  UNITED KINGDOM  2555"
      ]
     },
     "execution_count": 17,
     "metadata": {},
     "output_type": "execute_result"
    }
   ],
   "source": [
    "# Store filepath in a variable: \n",
    "# parse_dates=[\"year\"] or dtype=object\n",
    "myCO2=\"myCO2.csv\"\n",
    "co2_df = pd.read_csv(myCO2,dtype=object)\n",
    "co2_df.info()\n",
    "co2_df.head(5)"
   ]
  },
  {
   "cell_type": "code",
   "execution_count": 20,
   "metadata": {},
   "outputs": [
    {
     "data": {
      "text/html": [
       "<div>\n",
       "<style>\n",
       "    .dataframe thead tr:only-child th {\n",
       "        text-align: right;\n",
       "    }\n",
       "\n",
       "    .dataframe thead th {\n",
       "        text-align: left;\n",
       "    }\n",
       "\n",
       "    .dataframe tbody tr th {\n",
       "        vertical-align: top;\n",
       "    }\n",
       "</style>\n",
       "<table border=\"1\" class=\"dataframe\">\n",
       "  <thead>\n",
       "    <tr style=\"text-align: right;\">\n",
       "      <th></th>\n",
       "      <th>year</th>\n",
       "      <th>country</th>\n",
       "      <th>co2</th>\n",
       "    </tr>\n",
       "  </thead>\n",
       "  <tbody>\n",
       "    <tr>\n",
       "      <th>0</th>\n",
       "      <td>1751</td>\n",
       "      <td>UNITED KINGDOM</td>\n",
       "      <td>2552.0</td>\n",
       "    </tr>\n",
       "    <tr>\n",
       "      <th>1</th>\n",
       "      <td>1752</td>\n",
       "      <td>UNITED KINGDOM</td>\n",
       "      <td>2553.0</td>\n",
       "    </tr>\n",
       "    <tr>\n",
       "      <th>2</th>\n",
       "      <td>1753</td>\n",
       "      <td>UNITED KINGDOM</td>\n",
       "      <td>2553.0</td>\n",
       "    </tr>\n",
       "    <tr>\n",
       "      <th>3</th>\n",
       "      <td>1754</td>\n",
       "      <td>UNITED KINGDOM</td>\n",
       "      <td>2554.0</td>\n",
       "    </tr>\n",
       "    <tr>\n",
       "      <th>4</th>\n",
       "      <td>1755</td>\n",
       "      <td>UNITED KINGDOM</td>\n",
       "      <td>2555.0</td>\n",
       "    </tr>\n",
       "  </tbody>\n",
       "</table>\n",
       "</div>"
      ],
      "text/plain": [
       "   year         country     co2\n",
       "0  1751  UNITED KINGDOM  2552.0\n",
       "1  1752  UNITED KINGDOM  2553.0\n",
       "2  1753  UNITED KINGDOM  2553.0\n",
       "3  1754  UNITED KINGDOM  2554.0\n",
       "4  1755  UNITED KINGDOM  2555.0"
      ]
     },
     "execution_count": 20,
     "metadata": {},
     "output_type": "execute_result"
    }
   ],
   "source": [
    "# convert co2 to a float\n",
    "co2_df[\"co2\"] = co2_df[\"co2\"].astype(float)\n",
    "co2_df.head(5)"
   ]
  },
  {
   "cell_type": "code",
   "execution_count": 32,
   "metadata": {},
   "outputs": [
    {
     "name": "stdout",
     "output_type": "stream",
     "text": [
      "<class 'pandas.core.frame.DataFrame'>\n",
      "RangeIndex: 45358 entries, 0 to 45357\n",
      "Data columns (total 5 columns):\n",
      "year                       45358 non-null object\n",
      "country                    45358 non-null object\n",
      "avg_yly_tmp_f              45358 non-null object\n",
      "avg_yly_tmp_c              45358 non-null object\n",
      "avg_yly_tmp_uncertainty    45358 non-null object\n",
      "dtypes: object(5)\n",
      "memory usage: 1.7+ MB\n"
     ]
    }
   ],
   "source": [
    "# Store filepath in a variable: \n",
    "# parse_dates=[\"year\"] or dtype=object\n",
    "myTmps=\"myYearTempsF.csv\"\n",
    "tmps_df = pd.read_csv(myTmps,dtype=object)\n",
    "tmps_df.info()"
   ]
  },
  {
   "cell_type": "code",
   "execution_count": 47,
   "metadata": {},
   "outputs": [
    {
     "name": "stdout",
     "output_type": "stream",
     "text": [
      "<class 'pandas.core.frame.DataFrame'>\n",
      "RangeIndex: 45358 entries, 0 to 45357\n",
      "Data columns (total 5 columns):\n",
      "year                       45358 non-null object\n",
      "country                    45358 non-null object\n",
      "avg_yly_tmp_f              45358 non-null float64\n",
      "avg_yly_tmp_c              45358 non-null float64\n",
      "avg_yly_tmp_uncertainty    45358 non-null float64\n",
      "dtypes: float64(3), object(2)\n",
      "memory usage: 1.7+ MB\n"
     ]
    },
    {
     "data": {
      "text/html": [
       "<div>\n",
       "<style>\n",
       "    .dataframe thead tr:only-child th {\n",
       "        text-align: right;\n",
       "    }\n",
       "\n",
       "    .dataframe thead th {\n",
       "        text-align: left;\n",
       "    }\n",
       "\n",
       "    .dataframe tbody tr th {\n",
       "        vertical-align: top;\n",
       "    }\n",
       "</style>\n",
       "<table border=\"1\" class=\"dataframe\">\n",
       "  <thead>\n",
       "    <tr style=\"text-align: right;\">\n",
       "      <th></th>\n",
       "      <th>year</th>\n",
       "      <th>country</th>\n",
       "      <th>avg_yly_tmp_f</th>\n",
       "      <th>avg_yly_tmp_c</th>\n",
       "      <th>avg_yly_tmp_uncertainty</th>\n",
       "    </tr>\n",
       "  </thead>\n",
       "  <tbody>\n",
       "    <tr>\n",
       "      <th>0</th>\n",
       "      <td>1744</td>\n",
       "      <td>ALBANIA</td>\n",
       "      <td>57.311375</td>\n",
       "      <td>14.061875</td>\n",
       "      <td>2.243000</td>\n",
       "    </tr>\n",
       "    <tr>\n",
       "      <th>1</th>\n",
       "      <td>1744</td>\n",
       "      <td>ANDORRA</td>\n",
       "      <td>53.892950</td>\n",
       "      <td>12.162750</td>\n",
       "      <td>2.176625</td>\n",
       "    </tr>\n",
       "    <tr>\n",
       "      <th>2</th>\n",
       "      <td>1744</td>\n",
       "      <td>AUSTRIA</td>\n",
       "      <td>46.012550</td>\n",
       "      <td>7.784750</td>\n",
       "      <td>2.080250</td>\n",
       "    </tr>\n",
       "    <tr>\n",
       "      <th>3</th>\n",
       "      <td>1744</td>\n",
       "      <td>BELARUS</td>\n",
       "      <td>46.579325</td>\n",
       "      <td>8.099625</td>\n",
       "      <td>2.417750</td>\n",
       "    </tr>\n",
       "    <tr>\n",
       "      <th>4</th>\n",
       "      <td>1744</td>\n",
       "      <td>BELGIUM</td>\n",
       "      <td>51.225800</td>\n",
       "      <td>10.681000</td>\n",
       "      <td>1.846375</td>\n",
       "    </tr>\n",
       "  </tbody>\n",
       "</table>\n",
       "</div>"
      ],
      "text/plain": [
       "   year  country  avg_yly_tmp_f  avg_yly_tmp_c  avg_yly_tmp_uncertainty\n",
       "0  1744  ALBANIA      57.311375      14.061875                 2.243000\n",
       "1  1744  ANDORRA      53.892950      12.162750                 2.176625\n",
       "2  1744  AUSTRIA      46.012550       7.784750                 2.080250\n",
       "3  1744  BELARUS      46.579325       8.099625                 2.417750\n",
       "4  1744  BELGIUM      51.225800      10.681000                 1.846375"
      ]
     },
     "execution_count": 47,
     "metadata": {},
     "output_type": "execute_result"
    }
   ],
   "source": [
    "# convert temps to floats and country to upper case for merging\n",
    "tmps_df[\"avg_yly_tmp_f\"]= tmps_df[\"avg_yly_tmp_f\"].astype(float)\n",
    "tmps_df[\"avg_yly_tmp_c\"]= tmps_df[\"avg_yly_tmp_c\"].astype(float)\n",
    "tmps_df[\"avg_yly_tmp_uncertainty\"]= tmps_df[\"avg_yly_tmp_uncertainty\"].\\\n",
    "                                      astype(float)\n",
    "tmps_df[\"country\"]= tmps_df[\"country\"].apply(lambda x: x.upper())\n",
    "tmps_df.info()\n",
    "tmps_df.head(5)    "
   ]
  },
  {
   "cell_type": "code",
   "execution_count": 45,
   "metadata": {},
   "outputs": [
    {
     "name": "stdout",
     "output_type": "stream",
     "text": [
      "12783\n"
     ]
    },
    {
     "data": {
      "text/html": [
       "<div>\n",
       "<style>\n",
       "    .dataframe thead tr:only-child th {\n",
       "        text-align: right;\n",
       "    }\n",
       "\n",
       "    .dataframe thead th {\n",
       "        text-align: left;\n",
       "    }\n",
       "\n",
       "    .dataframe tbody tr th {\n",
       "        vertical-align: top;\n",
       "    }\n",
       "</style>\n",
       "<table border=\"1\" class=\"dataframe\">\n",
       "  <thead>\n",
       "    <tr style=\"text-align: right;\">\n",
       "      <th></th>\n",
       "      <th>year</th>\n",
       "      <th>country</th>\n",
       "      <th>co2</th>\n",
       "      <th>avg_yly_tmp_f</th>\n",
       "      <th>avg_yly_tmp_c</th>\n",
       "      <th>avg_yly_tmp_uncertainty</th>\n",
       "    </tr>\n",
       "  </thead>\n",
       "  <tbody>\n",
       "    <tr>\n",
       "      <th>0</th>\n",
       "      <td>1751</td>\n",
       "      <td>UNITED KINGDOM</td>\n",
       "      <td>2552.0</td>\n",
       "      <td>47.897375</td>\n",
       "      <td>8.831875</td>\n",
       "      <td>1.592250</td>\n",
       "    </tr>\n",
       "    <tr>\n",
       "      <th>1</th>\n",
       "      <td>1752</td>\n",
       "      <td>UNITED KINGDOM</td>\n",
       "      <td>2553.0</td>\n",
       "      <td>43.259300</td>\n",
       "      <td>6.255167</td>\n",
       "      <td>1.773833</td>\n",
       "    </tr>\n",
       "    <tr>\n",
       "      <th>2</th>\n",
       "      <td>1753</td>\n",
       "      <td>UNITED KINGDOM</td>\n",
       "      <td>2553.0</td>\n",
       "      <td>47.166950</td>\n",
       "      <td>8.426083</td>\n",
       "      <td>3.807083</td>\n",
       "    </tr>\n",
       "    <tr>\n",
       "      <th>3</th>\n",
       "      <td>1754</td>\n",
       "      <td>UNITED KINGDOM</td>\n",
       "      <td>2554.0</td>\n",
       "      <td>47.009900</td>\n",
       "      <td>8.338833</td>\n",
       "      <td>3.258917</td>\n",
       "    </tr>\n",
       "    <tr>\n",
       "      <th>4</th>\n",
       "      <td>1755</td>\n",
       "      <td>UNITED KINGDOM</td>\n",
       "      <td>2555.0</td>\n",
       "      <td>46.498700</td>\n",
       "      <td>8.054833</td>\n",
       "      <td>4.423917</td>\n",
       "    </tr>\n",
       "  </tbody>\n",
       "</table>\n",
       "</div>"
      ],
      "text/plain": [
       "   year         country     co2  avg_yly_tmp_f  avg_yly_tmp_c  \\\n",
       "0  1751  UNITED KINGDOM  2552.0      47.897375       8.831875   \n",
       "1  1752  UNITED KINGDOM  2553.0      43.259300       6.255167   \n",
       "2  1753  UNITED KINGDOM  2553.0      47.166950       8.426083   \n",
       "3  1754  UNITED KINGDOM  2554.0      47.009900       8.338833   \n",
       "4  1755  UNITED KINGDOM  2555.0      46.498700       8.054833   \n",
       "\n",
       "   avg_yly_tmp_uncertainty  \n",
       "0                 1.592250  \n",
       "1                 1.773833  \n",
       "2                 3.807083  \n",
       "3                 3.258917  \n",
       "4                 4.423917  "
      ]
     },
     "execution_count": 45,
     "metadata": {},
     "output_type": "execute_result"
    }
   ],
   "source": [
    "# Merge the two dataframes on the \"year\" and \"country\" fields\n",
    "\n",
    "co2_tmp_df = pd.merge(co2_df, tmps_df, on=([\"year\",\"country\"]),\\\n",
    "                      how=\"inner\", suffixes=(\"_x\", \"_y\"))\n",
    "print(len(co2_tmp_df.index))                     \n",
    "co2_tmp_df.head(5)"
   ]
  },
  {
   "cell_type": "code",
   "execution_count": 46,
   "metadata": {
    "collapsed": true
   },
   "outputs": [],
   "source": [
    "# Export file as an XLSX or CSV, w/o index, w/ header\n",
    "co2_tmp_df.to_csv(\"../output/co2_tmp_1.csv\", index=False, header=True)"
   ]
  },
  {
   "cell_type": "code",
   "execution_count": 56,
   "metadata": {},
   "outputs": [
    {
     "data": {
      "text/html": [
       "<div>\n",
       "<style>\n",
       "    .dataframe thead tr:only-child th {\n",
       "        text-align: right;\n",
       "    }\n",
       "\n",
       "    .dataframe thead th {\n",
       "        text-align: left;\n",
       "    }\n",
       "\n",
       "    .dataframe tbody tr th {\n",
       "        vertical-align: top;\n",
       "    }\n",
       "</style>\n",
       "<table border=\"1\" class=\"dataframe\">\n",
       "  <thead>\n",
       "    <tr style=\"text-align: right;\">\n",
       "      <th></th>\n",
       "      <th>country</th>\n",
       "      <th>count</th>\n",
       "    </tr>\n",
       "  </thead>\n",
       "  <tbody>\n",
       "    <tr>\n",
       "      <th>0</th>\n",
       "      <td>AFGHANISTAN</td>\n",
       "      <td>64</td>\n",
       "    </tr>\n",
       "    <tr>\n",
       "      <th>1</th>\n",
       "      <td>ALBANIA</td>\n",
       "      <td>80</td>\n",
       "    </tr>\n",
       "    <tr>\n",
       "      <th>2</th>\n",
       "      <td>ALGERIA</td>\n",
       "      <td>103</td>\n",
       "    </tr>\n",
       "    <tr>\n",
       "      <th>3</th>\n",
       "      <td>ANDORRA</td>\n",
       "      <td>23</td>\n",
       "    </tr>\n",
       "    <tr>\n",
       "      <th>4</th>\n",
       "      <td>ANGOLA</td>\n",
       "      <td>63</td>\n",
       "    </tr>\n",
       "  </tbody>\n",
       "</table>\n",
       "</div>"
      ],
      "text/plain": [
       "       country  count\n",
       "0  AFGHANISTAN     64\n",
       "1      ALBANIA     80\n",
       "2      ALGERIA    103\n",
       "3      ANDORRA     23\n",
       "4       ANGOLA     63"
      ]
     },
     "execution_count": 56,
     "metadata": {},
     "output_type": "execute_result"
    }
   ],
   "source": [
    "check_counts = co2_tmp_df.groupby([\"country\"],\\\n",
    "                as_index=False)[\"avg_yly_tmp_f\"].\\\n",
    "                count().rename(columns={\"avg_yly_tmp_f\":\"count\"})\n",
    "check_counts.head(5)"
   ]
  },
  {
   "cell_type": "code",
   "execution_count": 59,
   "metadata": {},
   "outputs": [],
   "source": [
    "# Export file as an XLSX or CSV, w/o index, w/ header\n",
    "check_counts.to_excel(\"../output/check_counts.xlsx\",\\\n",
    "                    index=False, header=True)"
   ]
  },
  {
   "cell_type": "code",
   "execution_count": null,
   "metadata": {
    "collapsed": true
   },
   "outputs": [],
   "source": []
  }
 ],
 "metadata": {
  "kernelspec": {
   "display_name": "Python 3",
   "language": "python",
   "name": "python3"
  },
  "language_info": {
   "codemirror_mode": {
    "name": "ipython",
    "version": 3
   },
   "file_extension": ".py",
   "mimetype": "text/x-python",
   "name": "python",
   "nbconvert_exporter": "python",
   "pygments_lexer": "ipython3",
   "version": "3.6.1"
  }
 },
 "nbformat": 4,
 "nbformat_minor": 2
}
