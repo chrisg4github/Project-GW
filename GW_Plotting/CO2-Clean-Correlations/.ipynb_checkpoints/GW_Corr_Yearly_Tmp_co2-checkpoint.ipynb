{
 "cells": [
  {
   "cell_type": "markdown",
   "metadata": {},
   "source": [
    "### Countries with co2 data in 1850\n",
    "HUNGARY, \n",
    "CANADA,\n",
    "USSR,\n",
    "NORWAY,\n",
    "SWEDEN,\n",
    "DENMARK,\n",
    "IRELAND,\n",
    "SPAIN,\n",
    "AUSTRIA,\n",
    "NETHERLANDS,\n",
    "POLAND,\n",
    "BELGIUM,\n",
    "GERMANY,\n",
    "FRANCE,\n",
    "USA,\n",
    "UK\n"
   ]
  },
  {
   "cell_type": "code",
   "execution_count": null,
   "metadata": {
    "collapsed": true
   },
   "outputs": [],
   "source": [
    "import pandas as pd\n",
    "import numpy as np\n",
    "import scipy as sp"
   ]
  },
  {
   "cell_type": "code",
   "execution_count": null,
   "metadata": {},
   "outputs": [],
   "source": [
    "# Store filepath in a variable: \n",
    "# parse_dates=[\"year\"] or dtype=object\n",
    "myCO2=\"./source/myCO2.csv\"\n",
    "co2_df = pd.read_csv(myCO2,parse_dates=[\"year\"])\n",
    "co2_df.info()\n",
    "co2_df.head(5)"
   ]
  },
  {
   "cell_type": "code",
   "execution_count": null,
   "metadata": {
    "collapsed": true
   },
   "outputs": [],
   "source": [
    "# # convert co2 to a float\n",
    "# co2_df[\"co2\"] = co2_df[\"co2\"].astype(float)\n",
    "# co2_df.head(5)"
   ]
  },
  {
   "cell_type": "code",
   "execution_count": null,
   "metadata": {},
   "outputs": [],
   "source": [
    "# Store filepath in a variable: \n",
    "# parse_dates=[\"year\"] or dtype=object\n",
    "myTmps=\"./source/myYearTempsF.csv\"\n",
    "tmps_df = pd.read_csv(myTmps,parse_dates=[\"year\"])\n",
    "tmps_df.info()"
   ]
  },
  {
   "cell_type": "code",
   "execution_count": null,
   "metadata": {},
   "outputs": [],
   "source": [
    "# convert temps to floats and country to upper case for merging\n",
    "# tmps_df[\"avg_yly_tmp_f\"]= tmps_df[\"avg_yly_tmp_f\"].astype(float)\n",
    "# tmps_df[\"avg_yly_tmp_c\"]= tmps_df[\"avg_yly_tmp_c\"].astype(float)\n",
    "# tmps_df[\"avg_yly_tmp_uncertainty\"]= tmps_df[\"avg_yly_tmp_uncertainty\"].\\\n",
    "#                                       astype(float)\n",
    "tmps_df[\"country\"]= tmps_df[\"country\"].apply(lambda x: x.upper())\n",
    "tmps_df.info()\n",
    "tmps_df.head(5)    "
   ]
  },
  {
   "cell_type": "code",
   "execution_count": null,
   "metadata": {},
   "outputs": [],
   "source": [
    "# Merge the two dataframes on the \"year\" and \"country\" fields\n",
    "\n",
    "co2_tmp_df = pd.merge(co2_df, tmps_df, on=([\"year\",\"country\"]),\\\n",
    "                      how=\"inner\", suffixes=(\"_x\", \"_y\"))\n",
    "print(len(co2_tmp_df.index))                     \n",
    "co2_tmp_df.head(5)"
   ]
  },
  {
   "cell_type": "code",
   "execution_count": null,
   "metadata": {
    "collapsed": true
   },
   "outputs": [],
   "source": [
    "# Export file as an XLSX or CSV, w/o index, w/ header\n",
    "co2_tmp_df.to_csv(\"../output/co2_tmp_1.csv\", index=False, header=True)"
   ]
  },
  {
   "cell_type": "code",
   "execution_count": null,
   "metadata": {},
   "outputs": [],
   "source": [
    "check_counts = co2_tmp_df.groupby([\"country\"],\\\n",
    "                as_index=False)[\"avg_yly_tmp_f\"].\\\n",
    "                count().rename(columns={\"avg_yly_tmp_f\":\"count\"})\n",
    "check_counts.head(5)"
   ]
  },
  {
   "cell_type": "code",
   "execution_count": null,
   "metadata": {
    "collapsed": true
   },
   "outputs": [],
   "source": [
    "# Export file as an XLSX or CSV, w/o index, w/ header\n",
    "check_counts.to_excel(\"../output/check_counts.xlsx\",\\\n",
    "                    index=False, header=True)"
   ]
  },
  {
   "cell_type": "code",
   "execution_count": null,
   "metadata": {},
   "outputs": [],
   "source": [
    "# Create a dataframe of just numbers\n",
    "co2_tmp = co2_tmp_df[[\"co2\",\"avg_yly_tmp_f\",\"avg_yly_tmp_c\",\\\n",
    "                      \"avg_yly_tmp_uncertainty\"]]\n",
    "co2_tmp.head(5)"
   ]
  },
  {
   "cell_type": "code",
   "execution_count": null,
   "metadata": {},
   "outputs": [],
   "source": [
    "co2_tmp.corr()"
   ]
  },
  {
   "cell_type": "code",
   "execution_count": null,
   "metadata": {},
   "outputs": [],
   "source": [
    "# Need to do this in one step\n",
    "co2tmp1 = co2_tmp_df.loc[co2_tmp_df[\"country\"] == 'CANADA']\n",
    "co2tmp1 = co2tmp1.loc[co2_tmp_df[\"year\"]>= '1852-01-01'].\\\n",
    "                      reset_index(drop=True)\n",
    "print(len(co2tmp1.index))\n",
    "co2tmp1.head(5)"
   ]
  },
  {
   "cell_type": "code",
   "execution_count": null,
   "metadata": {},
   "outputs": [],
   "source": [
    "# Get the min and max date range\n",
    "co2tmp1_min_date = co2tmp1[\"year\"].min()\n",
    "co2tmp1_max_date = co2tmp1[\"year\"].max()\n",
    "print(\"min year \" + str(co2tmp1_min_date) + \" max year \" + \\\n",
    "      str(co2tmp1_max_date))"
   ]
  },
  {
   "cell_type": "code",
   "execution_count": null,
   "metadata": {},
   "outputs": [],
   "source": [
    "co2tmp1.corr()"
   ]
  },
  {
   "cell_type": "code",
   "execution_count": null,
   "metadata": {},
   "outputs": [],
   "source": [
    "from pandas.plotting import lag_plot\n",
    "from matplotlib.figure import Figure\n",
    "import matplotlib.pyplot as plt\n",
    "\n",
    "plt.figure()\n",
    "data = co2tmp1[\"co2\"]\n",
    "lag_plot(data)\n",
    "\n",
    "plt.tight_layout()\n",
    "plt.savefig(\"canada_lag-plot_co2.png\")\n",
    "plt.show()"
   ]
  },
  {
   "cell_type": "code",
   "execution_count": null,
   "metadata": {},
   "outputs": [],
   "source": [
    "co2tmp2 = co2_tmp_df.loc[co2_tmp_df[\"country\"] == 'SPAIN']\n",
    "co2tmp2 = co2tmp2.loc[co2_tmp_df[\"year\"]>= '1852-01-01'].\\\n",
    "                      reset_index(drop=True)\n",
    "print(len(co2tmp2.index))\n",
    "co2tmp2.head(5)"
   ]
  },
  {
   "cell_type": "code",
   "execution_count": null,
   "metadata": {},
   "outputs": [],
   "source": [
    "# Get the min and max date range\n",
    "co2tmp2_min_date = co2tmp2[\"year\"].min()\n",
    "co2tmp2_max_date = co2tmp2[\"year\"].max()\n",
    "print(\"min year \" + str(co2tmp2_min_date) + \" max year \" + \\\n",
    "      str(co2tmp2_max_date))"
   ]
  },
  {
   "cell_type": "code",
   "execution_count": null,
   "metadata": {},
   "outputs": [],
   "source": [
    "co2tmp2.corr()"
   ]
  },
  {
   "cell_type": "code",
   "execution_count": null,
   "metadata": {},
   "outputs": [],
   "source": [
    "from pandas.plotting import lag_plot\n",
    "from matplotlib.figure import Figure\n",
    "import matplotlib.pyplot as plt\n",
    "\n",
    "plt.figure()\n",
    "data = co2tmp2[\"co2\"]\n",
    "lag_plot(data)\n",
    "\n",
    "plt.tight_layout()\n",
    "plt.savefig(\"spain_lag-plot_co2.png\")\n",
    "plt.show()"
   ]
  },
  {
   "cell_type": "code",
   "execution_count": null,
   "metadata": {},
   "outputs": [],
   "source": [
    "co2tmp3 = co2_tmp_df.loc[co2_tmp_df[\"country\"] == 'AUSTRALIA'].\\\n",
    "                                    reset_index(drop=True)\n",
    "print(len(co2tmp3.index))\n",
    "co2tmp3.head(5)"
   ]
  },
  {
   "cell_type": "code",
   "execution_count": null,
   "metadata": {},
   "outputs": [],
   "source": [
    "# Get the min and max date range\n",
    "co2tmp3_min_date = co2tmp3[\"year\"].min()\n",
    "co2tmp3_max_date = co2tmp3[\"year\"].max()\n",
    "print(\"min year \" + str(co2tmp3_min_date) + \" max year \" + \\\n",
    "      str(co2tmp3_max_date))"
   ]
  },
  {
   "cell_type": "code",
   "execution_count": null,
   "metadata": {},
   "outputs": [],
   "source": [
    "co2tmp3.corr()"
   ]
  },
  {
   "cell_type": "code",
   "execution_count": null,
   "metadata": {},
   "outputs": [],
   "source": [
    "from pandas.plotting import lag_plot\n",
    "from matplotlib.figure import Figure\n",
    "import matplotlib.pyplot as plt\n",
    "\n",
    "plt.figure()\n",
    "data = co2tmp3[\"co2\"]\n",
    "lag_plot(data)\n",
    "\n",
    "plt.tight_layout()\n",
    "plt.savefig(\"australia_lag-plot_co2.png\")\n",
    "plt.show()"
   ]
  },
  {
   "cell_type": "code",
   "execution_count": null,
   "metadata": {},
   "outputs": [],
   "source": [
    "# Dependencies\n",
    "from matplotlib.figure import Figure\n",
    "import matplotlib.pyplot as plt\n",
    "import pandas as pd\n",
    "import numpy as np\n",
    "import datetime as dt\n",
    "from datetime import datetime, date, time\n",
    "import matplotlib.dates as mdates\n",
    "\n",
    "fig = plt.figure(figsize=(12,10))\n",
    "ax = fig.add_subplot(111)\n",
    "\n",
    "x_axis = co2tmp1[\"year\"]  \n",
    "y1_axis = co2tmp1[\"co2\"]\n",
    "y2_axis = co2tmp2[\"co2\"]\n",
    "y3_axis = co2tmp3[\"co2\"]\n",
    "\n",
    "\n",
    "ax.set_title(\"Canada/Spain/Australia co2 by Year\",\\\n",
    "             weight='bold').set_fontsize('18')\n",
    "ax.set_xlabel(\"Year\", weight='bold').set_fontsize('14')\n",
    "ax.set_ylabel(\"co2\", weight='bold').set_fontsize('14')\n",
    "\n",
    "\n",
    "ax.grid(True)\n",
    "ax.set_facecolor(\"whitesmoke\")\n",
    "fig.autofmt_xdate(rotation=45, ha='right')\n",
    "\n",
    "ax.plot(x_axis, y1_axis, color=\"red\", linewidth= 1)\n",
    "ax.plot(x_axis, y2_axis, color=\"green\", linewidth= 1)\n",
    "ax.plot(x_axis, y3_axis, color=\"blue\", linewidth= 1)\n",
    "\n",
    "ax.legend([\"Canada co2\",\"Spain co2\",\"Australia co2\"],\n",
    "          loc=\"best\",bbox_to_anchor=(1, 0.5))\n",
    "\n",
    "plt.tight_layout()\n",
    "plt.savefig(\"canada_spain_australia_yearly_co2_chart.png\")\n",
    "plt.show()"
   ]
  },
  {
   "cell_type": "code",
   "execution_count": null,
   "metadata": {
    "collapsed": true
   },
   "outputs": [],
   "source": []
  }
 ],
 "metadata": {
  "kernelspec": {
   "display_name": "Python 3",
   "language": "python",
   "name": "python3"
  },
  "language_info": {
   "codemirror_mode": {
    "name": "ipython",
    "version": 3
   },
   "file_extension": ".py",
   "mimetype": "text/x-python",
   "name": "python",
   "nbconvert_exporter": "python",
   "pygments_lexer": "ipython3",
   "version": "3.6.1"
  }
 },
 "nbformat": 4,
 "nbformat_minor": 2
}
