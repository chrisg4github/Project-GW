{
 "cells": [
  {
   "cell_type": "markdown",
   "metadata": {},
   "source": [
    "## Temperature data by Country\n",
    "Unless otherwise noted temperatures in fahrenheit and CO2 thousands metric tons will be displayed in separate charts because of scale differences.\n",
    "\n",
    "## Temperature Data Source:\n",
    "* Data.World: https://data.world/data-society/global-climate-change-data\n",
    "* Original Data Source:\n",
    "* Kaggle: https://www.kaggle.com/berkeleyearth/climate-change-earth-surface-temperature-data\n",
    "* Berkeley Earth Raw data:  http://berkeleyearth.org/data/\n",
    "* Explains their data cleansing process: http://berkeleyearth.org/about-data-set/\n",
    "\n",
    "\n",
    "## Countries with CO2 and Temperature data 1850 - 2012\n",
    "Sweden,\n",
    "Canada,\n",
    "France,\n",
    "UK,\n",
    "Spain,\n",
    "Poland\n",
    "\n",
    "## Countries with CO2 and Temperature data 1878 - 2012\n",
    "USA,\n",
    "Australia,\n",
    "India\n",
    "\n",
    "## G20 Countries\n",
    "The G20 consists of Argentina, Australia, Brazil, Canada, China, France, Germany, India, Indonesia, Italy, Japan, Mexico, Russia, Saudi Arabia, South Africa, South Korea, Turkey, United Kingdom, United States, and the European Union.\n"
   ]
  },
  {
   "cell_type": "code",
   "execution_count": 5,
   "metadata": {
    "collapsed": true
   },
   "outputs": [],
   "source": [
    "import pandas as pd\n",
    "import numpy as np\n",
    "import scipy as sp\n",
    "import seaborn as sns\n",
    "# Set my default color palette\n",
    "mycolors = [\"royalblue\", \"blue\", \"red\", \"green\", \"cyan\", \"orange\", \n",
    "            \"purple\", \"olive\", \"limegreen\", \"magenta\", ]\n",
    "sns.set_palette(mycolors)"
   ]
  },
  {
   "cell_type": "code",
   "execution_count": 6,
   "metadata": {},
   "outputs": [
    {
     "name": "stdout",
     "output_type": "stream",
     "text": [
      "539647\n",
      "<class 'pandas.core.frame.DataFrame'>\n",
      "RangeIndex: 539647 entries, 0 to 539646\n",
      "Data columns (total 5 columns):\n",
      "m_date                        539647 non-null datetime64[ns]\n",
      "mthly_avg_temp_f              539647 non-null float64\n",
      "mthly_avg_temp_c              539647 non-null float64\n",
      "mthly_avg_temp_uncertainty    539647 non-null float64\n",
      "country                       539647 non-null object\n",
      "dtypes: datetime64[ns](1), float64(3), object(1)\n",
      "memory usage: 20.6+ MB\n"
     ]
    }
   ],
   "source": [
    "# Store filepath in a variable: use parse_dates=[\"date\"] \n",
    "# \n",
    "ltc = \"./data/clean/clean_GlobalLandTemperaturesByCountry.csv\"\n",
    "\n",
    "# Read our Data file with the pandas library\n",
    "ltc_df = pd.read_csv(ltc,parse_dates=[\"m_date\"],encoding=\"ISO-8859-1\")\n",
    "print(len(ltc_df.index))\n",
    "ltc_df.info()"
   ]
  },
  {
   "cell_type": "code",
   "execution_count": 7,
   "metadata": {},
   "outputs": [
    {
     "data": {
      "text/html": [
       "<div>\n",
       "<style>\n",
       "    .dataframe thead tr:only-child th {\n",
       "        text-align: right;\n",
       "    }\n",
       "\n",
       "    .dataframe thead th {\n",
       "        text-align: left;\n",
       "    }\n",
       "\n",
       "    .dataframe tbody tr th {\n",
       "        vertical-align: top;\n",
       "    }\n",
       "</style>\n",
       "<table border=\"1\" class=\"dataframe\">\n",
       "  <thead>\n",
       "    <tr style=\"text-align: right;\">\n",
       "      <th></th>\n",
       "      <th>m_date</th>\n",
       "      <th>mthly_avg_temp_f</th>\n",
       "      <th>mthly_avg_temp_c</th>\n",
       "      <th>mthly_avg_temp_uncertainty</th>\n",
       "      <th>country</th>\n",
       "    </tr>\n",
       "  </thead>\n",
       "  <tbody>\n",
       "    <tr>\n",
       "      <th>0</th>\n",
       "      <td>1744-04-01</td>\n",
       "      <td>56.4350</td>\n",
       "      <td>13.575</td>\n",
       "      <td>2.355</td>\n",
       "      <td>Albania</td>\n",
       "    </tr>\n",
       "    <tr>\n",
       "      <th>1</th>\n",
       "      <td>1744-04-01</td>\n",
       "      <td>52.0502</td>\n",
       "      <td>11.139</td>\n",
       "      <td>2.315</td>\n",
       "      <td>Andorra</td>\n",
       "    </tr>\n",
       "    <tr>\n",
       "      <th>2</th>\n",
       "      <td>1744-04-01</td>\n",
       "      <td>45.7682</td>\n",
       "      <td>7.649</td>\n",
       "      <td>2.547</td>\n",
       "      <td>Austria</td>\n",
       "    </tr>\n",
       "    <tr>\n",
       "      <th>3</th>\n",
       "      <td>1744-04-01</td>\n",
       "      <td>45.9932</td>\n",
       "      <td>7.774</td>\n",
       "      <td>3.281</td>\n",
       "      <td>Belarus</td>\n",
       "    </tr>\n",
       "    <tr>\n",
       "      <th>4</th>\n",
       "      <td>1744-04-01</td>\n",
       "      <td>48.4862</td>\n",
       "      <td>9.159</td>\n",
       "      <td>2.577</td>\n",
       "      <td>Belgium</td>\n",
       "    </tr>\n",
       "  </tbody>\n",
       "</table>\n",
       "</div>"
      ],
      "text/plain": [
       "      m_date  mthly_avg_temp_f  mthly_avg_temp_c  mthly_avg_temp_uncertainty  \\\n",
       "0 1744-04-01           56.4350            13.575                       2.355   \n",
       "1 1744-04-01           52.0502            11.139                       2.315   \n",
       "2 1744-04-01           45.7682             7.649                       2.547   \n",
       "3 1744-04-01           45.9932             7.774                       3.281   \n",
       "4 1744-04-01           48.4862             9.159                       2.577   \n",
       "\n",
       "   country  \n",
       "0  Albania  \n",
       "1  Andorra  \n",
       "2  Austria  \n",
       "3  Belarus  \n",
       "4  Belgium  "
      ]
     },
     "execution_count": 7,
     "metadata": {},
     "output_type": "execute_result"
    }
   ],
   "source": [
    "ltc_df.head()"
   ]
  },
  {
   "cell_type": "code",
   "execution_count": 8,
   "metadata": {},
   "outputs": [
    {
     "name": "stdout",
     "output_type": "stream",
     "text": [
      "156\n"
     ]
    },
    {
     "data": {
      "text/html": [
       "<div>\n",
       "<style>\n",
       "    .dataframe thead tr:only-child th {\n",
       "        text-align: right;\n",
       "    }\n",
       "\n",
       "    .dataframe thead th {\n",
       "        text-align: left;\n",
       "    }\n",
       "\n",
       "    .dataframe tbody tr th {\n",
       "        vertical-align: top;\n",
       "    }\n",
       "</style>\n",
       "<table border=\"1\" class=\"dataframe\">\n",
       "  <thead>\n",
       "    <tr style=\"text-align: right;\">\n",
       "      <th></th>\n",
       "      <th>m_date</th>\n",
       "      <th>mthly_avg_temp_f</th>\n",
       "      <th>mthly_avg_temp_c</th>\n",
       "      <th>mthly_avg_temp_uncertainty</th>\n",
       "      <th>country</th>\n",
       "    </tr>\n",
       "  </thead>\n",
       "  <tbody>\n",
       "    <tr>\n",
       "      <th>0</th>\n",
       "      <td>2000-01-01</td>\n",
       "      <td>27.7916</td>\n",
       "      <td>-2.338</td>\n",
       "      <td>0.149</td>\n",
       "      <td>United States</td>\n",
       "    </tr>\n",
       "    <tr>\n",
       "      <th>1</th>\n",
       "      <td>2000-02-01</td>\n",
       "      <td>35.6090</td>\n",
       "      <td>2.005</td>\n",
       "      <td>0.157</td>\n",
       "      <td>United States</td>\n",
       "    </tr>\n",
       "    <tr>\n",
       "      <th>2</th>\n",
       "      <td>2000-03-01</td>\n",
       "      <td>41.2628</td>\n",
       "      <td>5.146</td>\n",
       "      <td>0.135</td>\n",
       "      <td>United States</td>\n",
       "    </tr>\n",
       "    <tr>\n",
       "      <th>3</th>\n",
       "      <td>2000-04-01</td>\n",
       "      <td>48.0722</td>\n",
       "      <td>8.929</td>\n",
       "      <td>0.121</td>\n",
       "      <td>United States</td>\n",
       "    </tr>\n",
       "    <tr>\n",
       "      <th>4</th>\n",
       "      <td>2000-05-01</td>\n",
       "      <td>59.1530</td>\n",
       "      <td>15.085</td>\n",
       "      <td>0.177</td>\n",
       "      <td>United States</td>\n",
       "    </tr>\n",
       "  </tbody>\n",
       "</table>\n",
       "</div>"
      ],
      "text/plain": [
       "      m_date  mthly_avg_temp_f  mthly_avg_temp_c  mthly_avg_temp_uncertainty  \\\n",
       "0 2000-01-01           27.7916            -2.338                       0.149   \n",
       "1 2000-02-01           35.6090             2.005                       0.157   \n",
       "2 2000-03-01           41.2628             5.146                       0.135   \n",
       "3 2000-04-01           48.0722             8.929                       0.121   \n",
       "4 2000-05-01           59.1530            15.085                       0.177   \n",
       "\n",
       "         country  \n",
       "0  United States  \n",
       "1  United States  \n",
       "2  United States  \n",
       "3  United States  \n",
       "4  United States  "
      ]
     },
     "execution_count": 8,
     "metadata": {},
     "output_type": "execute_result"
    }
   ],
   "source": [
    "ltc1_df = ltc_df.loc[(ltc_df[\"country\"] == \"United States\") &\n",
    "                       (ltc_df[\"m_date\"]>= \"2000-01-01\")]\n",
    "ltc1_df = ltc1_df.sort_values([\"m_date\"], ascending=[True]).\\\n",
    "                                reset_index(drop=True)\n",
    "print(len(ltc1_df.index))\n",
    "ltc1_df.head()"
   ]
  },
  {
   "cell_type": "code",
   "execution_count": 9,
   "metadata": {},
   "outputs": [
    {
     "name": "stdout",
     "output_type": "stream",
     "text": [
      "min temperature (F) 25.0106 max temperature (F) 73.4144\n"
     ]
    }
   ],
   "source": [
    "# Get the min and max date range\n",
    "ltc1_min_tmp = ltc1_df[\"mthly_avg_temp_f\"].min()\n",
    "ltc1_max_tmp = ltc1_df[\"mthly_avg_temp_f\"].max()\n",
    "print(\"min temperature (F) \" + str(ltc1_min_tmp) +\\\n",
    "      \" max temperature (F) \" + \\\n",
    "      str(ltc1_max_tmp))"
   ]
  },
  {
   "cell_type": "code",
   "execution_count": 10,
   "metadata": {},
   "outputs": [
    {
     "name": "stdout",
     "output_type": "stream",
     "text": [
      "min year 2000-01-01 00:00:00 max year 2012-12-01 00:00:00\n"
     ]
    }
   ],
   "source": [
    "# Get the min and max date range\n",
    "ltc1_min_date = ltc1_df[\"m_date\"].min()\n",
    "ltc1_max_date = ltc1_df[\"m_date\"].max()\n",
    "print(\"min year \" + str(ltc1_min_date) + \" max year \" + \\\n",
    "      str(ltc1_max_date))"
   ]
  },
  {
   "cell_type": "code",
   "execution_count": 11,
   "metadata": {},
   "outputs": [
    {
     "data": {
      "image/png": "[encoded data removed]",
      "text/plain": [
       "<matplotlib.figure.Figure at 0xba78278>"
      ]
     },
     "metadata": {},
     "output_type": "display_data"
    }
   ],
   "source": [
    "# Dependencies\n",
    "from matplotlib.figure import Figure\n",
    "import matplotlib.pyplot as plt\n",
    "import pandas as pd\n",
    "import numpy as np\n",
    "import datetime as dt\n",
    "from datetime import datetime, date, time\n",
    "import matplotlib.dates as mdates\n",
    "\n",
    "fig = plt.figure(figsize=(12,8))\n",
    "ax = fig.add_subplot(111)\n",
    "\n",
    "x_axis = ltc1_df[\"m_date\"]  \n",
    "y_axis = ltc1_df[\"mthly_avg_temp_f\"]\n",
    "\n",
    "ax.set_title(\"USA Monthly Average Temperatures 2000 - 2012\",\\\n",
    "             weight='bold').set_fontsize('18')\n",
    "ax.set_xlabel(\"2000 - 2012\",weight='bold').set_fontsize('14')\n",
    "ax.set_ylabel(\"Monthly Average Temperatures(F)\",weight='bold').set_fontsize('14')\n",
    "\n",
    "ax.grid(True)\n",
    "ax.set_facecolor(\"whitesmoke\")\n",
    "# fig.autofmt_xdate(rotation=45, ha='right')\n",
    "# ax.xaxis.set_major_locator(mdates.YearLocator())\n",
    "# ax.xaxis.set_major_formatter(mdates.DateFormatter('%Y'))\n",
    "\n",
    "ax.plot(x_axis, y_axis, color=\"magenta\", marker='o', linewidth= 2)\n",
    "\n",
    "ax.legend([\"USA Monthly Avg Temp (F)\"], loc=\"upper left\")\n",
    "\n",
    "plt.tight_layout()\n",
    "plt.savefig(\"./images/2000-2012_usa_temp_chart.png\")\n",
    "plt.show()"
   ]
  },
  {
   "cell_type": "code",
   "execution_count": 12,
   "metadata": {},
   "outputs": [
    {
     "ename": "KeyError",
     "evalue": "'avg_temp_f'",
     "output_type": "error",
     "traceback": [
      "\u001b[1;31m---------------------------------------------------------------------------\u001b[0m",
      "\u001b[1;31mKeyError\u001b[0m                                  Traceback (most recent call last)",
      "\u001b[1;32mC:\\Users\\Chrisg\\Anaconda3\\lib\\site-packages\\pandas\\core\\indexes\\base.py\u001b[0m in \u001b[0;36mget_loc\u001b[1;34m(self, key, method, tolerance)\u001b[0m\n\u001b[0;32m   2392\u001b[0m             \u001b[1;32mtry\u001b[0m\u001b[1;33m:\u001b[0m\u001b[1;33m\u001b[0m\u001b[0m\n\u001b[1;32m-> 2393\u001b[1;33m                 \u001b[1;32mreturn\u001b[0m \u001b[0mself\u001b[0m\u001b[1;33m.\u001b[0m\u001b[0m_engine\u001b[0m\u001b[1;33m.\u001b[0m\u001b[0mget_loc\u001b[0m\u001b[1;33m(\u001b[0m\u001b[0mkey\u001b[0m\u001b[1;33m)\u001b[0m\u001b[1;33m\u001b[0m\u001b[0m\n\u001b[0m\u001b[0;32m   2394\u001b[0m             \u001b[1;32mexcept\u001b[0m \u001b[0mKeyError\u001b[0m\u001b[1;33m:\u001b[0m\u001b[1;33m\u001b[0m\u001b[0m\n",
      "\u001b[1;32mpandas\\_libs\\index.pyx\u001b[0m in \u001b[0;36mpandas._libs.index.IndexEngine.get_loc (pandas\\_libs\\index.c:5239)\u001b[1;34m()\u001b[0m\n",
      "\u001b[1;32mpandas\\_libs\\index.pyx\u001b[0m in \u001b[0;36mpandas._libs.index.IndexEngine.get_loc (pandas\\_libs\\index.c:5085)\u001b[1;34m()\u001b[0m\n",
      "\u001b[1;32mpandas\\_libs\\hashtable_class_helper.pxi\u001b[0m in \u001b[0;36mpandas._libs.hashtable.PyObjectHashTable.get_item (pandas\\_libs\\hashtable.c:20405)\u001b[1;34m()\u001b[0m\n",
      "\u001b[1;32mpandas\\_libs\\hashtable_class_helper.pxi\u001b[0m in \u001b[0;36mpandas._libs.hashtable.PyObjectHashTable.get_item (pandas\\_libs\\hashtable.c:20359)\u001b[1;34m()\u001b[0m\n",
      "\u001b[1;31mKeyError\u001b[0m: 'avg_temp_f'",
      "\nDuring handling of the above exception, another exception occurred:\n",
      "\u001b[1;31mKeyError\u001b[0m                                  Traceback (most recent call last)",
      "\u001b[1;32m<ipython-input-12-921f1927b0f7>\u001b[0m in \u001b[0;36m<module>\u001b[1;34m()\u001b[0m\n\u001b[0;32m      2\u001b[0m \u001b[1;33m\u001b[0m\u001b[0m\n\u001b[0;32m      3\u001b[0m \u001b[0mplt\u001b[0m\u001b[1;33m.\u001b[0m\u001b[0mfigure\u001b[0m\u001b[1;33m(\u001b[0m\u001b[1;33m)\u001b[0m\u001b[1;33m\u001b[0m\u001b[0m\n\u001b[1;32m----> 4\u001b[1;33m \u001b[0mdata\u001b[0m \u001b[1;33m=\u001b[0m \u001b[0mltc1_df\u001b[0m\u001b[1;33m[\u001b[0m\u001b[1;34m\"avg_temp_f\"\u001b[0m\u001b[1;33m]\u001b[0m\u001b[1;33m\u001b[0m\u001b[0m\n\u001b[0m\u001b[0;32m      5\u001b[0m \u001b[0mplt\u001b[0m\u001b[1;33m.\u001b[0m\u001b[0mtitle\u001b[0m\u001b[1;33m(\u001b[0m\u001b[1;34m\"USA 2000-2012 Monthly Avg TmpF Lag Plot\"\u001b[0m\u001b[1;33m)\u001b[0m\u001b[1;33m\u001b[0m\u001b[0m\n\u001b[0;32m      6\u001b[0m \u001b[0mlag_plot\u001b[0m\u001b[1;33m(\u001b[0m\u001b[0mdata\u001b[0m\u001b[1;33m)\u001b[0m\u001b[1;33m\u001b[0m\u001b[0m\n",
      "\u001b[1;32mC:\\Users\\Chrisg\\Anaconda3\\lib\\site-packages\\pandas\\core\\frame.py\u001b[0m in \u001b[0;36m__getitem__\u001b[1;34m(self, key)\u001b[0m\n\u001b[0;32m   2060\u001b[0m             \u001b[1;32mreturn\u001b[0m \u001b[0mself\u001b[0m\u001b[1;33m.\u001b[0m\u001b[0m_getitem_multilevel\u001b[0m\u001b[1;33m(\u001b[0m\u001b[0mkey\u001b[0m\u001b[1;33m)\u001b[0m\u001b[1;33m\u001b[0m\u001b[0m\n\u001b[0;32m   2061\u001b[0m         \u001b[1;32melse\u001b[0m\u001b[1;33m:\u001b[0m\u001b[1;33m\u001b[0m\u001b[0m\n\u001b[1;32m-> 2062\u001b[1;33m             \u001b[1;32mreturn\u001b[0m \u001b[0mself\u001b[0m\u001b[1;33m.\u001b[0m\u001b[0m_getitem_column\u001b[0m\u001b[1;33m(\u001b[0m\u001b[0mkey\u001b[0m\u001b[1;33m)\u001b[0m\u001b[1;33m\u001b[0m\u001b[0m\n\u001b[0m\u001b[0;32m   2063\u001b[0m \u001b[1;33m\u001b[0m\u001b[0m\n\u001b[0;32m   2064\u001b[0m     \u001b[1;32mdef\u001b[0m \u001b[0m_getitem_column\u001b[0m\u001b[1;33m(\u001b[0m\u001b[0mself\u001b[0m\u001b[1;33m,\u001b[0m \u001b[0mkey\u001b[0m\u001b[1;33m)\u001b[0m\u001b[1;33m:\u001b[0m\u001b[1;33m\u001b[0m\u001b[0m\n",
      "\u001b[1;32mC:\\Users\\Chrisg\\Anaconda3\\lib\\site-packages\\pandas\\core\\frame.py\u001b[0m in \u001b[0;36m_getitem_column\u001b[1;34m(self, key)\u001b[0m\n\u001b[0;32m   2067\u001b[0m         \u001b[1;31m# get column\u001b[0m\u001b[1;33m\u001b[0m\u001b[1;33m\u001b[0m\u001b[0m\n\u001b[0;32m   2068\u001b[0m         \u001b[1;32mif\u001b[0m \u001b[0mself\u001b[0m\u001b[1;33m.\u001b[0m\u001b[0mcolumns\u001b[0m\u001b[1;33m.\u001b[0m\u001b[0mis_unique\u001b[0m\u001b[1;33m:\u001b[0m\u001b[1;33m\u001b[0m\u001b[0m\n\u001b[1;32m-> 2069\u001b[1;33m             \u001b[1;32mreturn\u001b[0m \u001b[0mself\u001b[0m\u001b[1;33m.\u001b[0m\u001b[0m_get_item_cache\u001b[0m\u001b[1;33m(\u001b[0m\u001b[0mkey\u001b[0m\u001b[1;33m)\u001b[0m\u001b[1;33m\u001b[0m\u001b[0m\n\u001b[0m\u001b[0;32m   2070\u001b[0m \u001b[1;33m\u001b[0m\u001b[0m\n\u001b[0;32m   2071\u001b[0m         \u001b[1;31m# duplicate columns & possible reduce dimensionality\u001b[0m\u001b[1;33m\u001b[0m\u001b[1;33m\u001b[0m\u001b[0m\n",
      "\u001b[1;32mC:\\Users\\Chrisg\\Anaconda3\\lib\\site-packages\\pandas\\core\\generic.py\u001b[0m in \u001b[0;36m_get_item_cache\u001b[1;34m(self, item)\u001b[0m\n\u001b[0;32m   1532\u001b[0m         \u001b[0mres\u001b[0m \u001b[1;33m=\u001b[0m \u001b[0mcache\u001b[0m\u001b[1;33m.\u001b[0m\u001b[0mget\u001b[0m\u001b[1;33m(\u001b[0m\u001b[0mitem\u001b[0m\u001b[1;33m)\u001b[0m\u001b[1;33m\u001b[0m\u001b[0m\n\u001b[0;32m   1533\u001b[0m         \u001b[1;32mif\u001b[0m \u001b[0mres\u001b[0m \u001b[1;32mis\u001b[0m \u001b[1;32mNone\u001b[0m\u001b[1;33m:\u001b[0m\u001b[1;33m\u001b[0m\u001b[0m\n\u001b[1;32m-> 1534\u001b[1;33m             \u001b[0mvalues\u001b[0m \u001b[1;33m=\u001b[0m \u001b[0mself\u001b[0m\u001b[1;33m.\u001b[0m\u001b[0m_data\u001b[0m\u001b[1;33m.\u001b[0m\u001b[0mget\u001b[0m\u001b[1;33m(\u001b[0m\u001b[0mitem\u001b[0m\u001b[1;33m)\u001b[0m\u001b[1;33m\u001b[0m\u001b[0m\n\u001b[0m\u001b[0;32m   1535\u001b[0m             \u001b[0mres\u001b[0m \u001b[1;33m=\u001b[0m \u001b[0mself\u001b[0m\u001b[1;33m.\u001b[0m\u001b[0m_box_item_values\u001b[0m\u001b[1;33m(\u001b[0m\u001b[0mitem\u001b[0m\u001b[1;33m,\u001b[0m \u001b[0mvalues\u001b[0m\u001b[1;33m)\u001b[0m\u001b[1;33m\u001b[0m\u001b[0m\n\u001b[0;32m   1536\u001b[0m             \u001b[0mcache\u001b[0m\u001b[1;33m[\u001b[0m\u001b[0mitem\u001b[0m\u001b[1;33m]\u001b[0m \u001b[1;33m=\u001b[0m \u001b[0mres\u001b[0m\u001b[1;33m\u001b[0m\u001b[0m\n",
      "\u001b[1;32mC:\\Users\\Chrisg\\Anaconda3\\lib\\site-packages\\pandas\\core\\internals.py\u001b[0m in \u001b[0;36mget\u001b[1;34m(self, item, fastpath)\u001b[0m\n\u001b[0;32m   3588\u001b[0m \u001b[1;33m\u001b[0m\u001b[0m\n\u001b[0;32m   3589\u001b[0m             \u001b[1;32mif\u001b[0m \u001b[1;32mnot\u001b[0m \u001b[0misnull\u001b[0m\u001b[1;33m(\u001b[0m\u001b[0mitem\u001b[0m\u001b[1;33m)\u001b[0m\u001b[1;33m:\u001b[0m\u001b[1;33m\u001b[0m\u001b[0m\n\u001b[1;32m-> 3590\u001b[1;33m                 \u001b[0mloc\u001b[0m \u001b[1;33m=\u001b[0m \u001b[0mself\u001b[0m\u001b[1;33m.\u001b[0m\u001b[0mitems\u001b[0m\u001b[1;33m.\u001b[0m\u001b[0mget_loc\u001b[0m\u001b[1;33m(\u001b[0m\u001b[0mitem\u001b[0m\u001b[1;33m)\u001b[0m\u001b[1;33m\u001b[0m\u001b[0m\n\u001b[0m\u001b[0;32m   3591\u001b[0m             \u001b[1;32melse\u001b[0m\u001b[1;33m:\u001b[0m\u001b[1;33m\u001b[0m\u001b[0m\n\u001b[0;32m   3592\u001b[0m                 \u001b[0mindexer\u001b[0m \u001b[1;33m=\u001b[0m \u001b[0mnp\u001b[0m\u001b[1;33m.\u001b[0m\u001b[0marange\u001b[0m\u001b[1;33m(\u001b[0m\u001b[0mlen\u001b[0m\u001b[1;33m(\u001b[0m\u001b[0mself\u001b[0m\u001b[1;33m.\u001b[0m\u001b[0mitems\u001b[0m\u001b[1;33m)\u001b[0m\u001b[1;33m)\u001b[0m\u001b[1;33m[\u001b[0m\u001b[0misnull\u001b[0m\u001b[1;33m(\u001b[0m\u001b[0mself\u001b[0m\u001b[1;33m.\u001b[0m\u001b[0mitems\u001b[0m\u001b[1;33m)\u001b[0m\u001b[1;33m]\u001b[0m\u001b[1;33m\u001b[0m\u001b[0m\n",
      "\u001b[1;32mC:\\Users\\Chrisg\\Anaconda3\\lib\\site-packages\\pandas\\core\\indexes\\base.py\u001b[0m in \u001b[0;36mget_loc\u001b[1;34m(self, key, method, tolerance)\u001b[0m\n\u001b[0;32m   2393\u001b[0m                 \u001b[1;32mreturn\u001b[0m \u001b[0mself\u001b[0m\u001b[1;33m.\u001b[0m\u001b[0m_engine\u001b[0m\u001b[1;33m.\u001b[0m\u001b[0mget_loc\u001b[0m\u001b[1;33m(\u001b[0m\u001b[0mkey\u001b[0m\u001b[1;33m)\u001b[0m\u001b[1;33m\u001b[0m\u001b[0m\n\u001b[0;32m   2394\u001b[0m             \u001b[1;32mexcept\u001b[0m \u001b[0mKeyError\u001b[0m\u001b[1;33m:\u001b[0m\u001b[1;33m\u001b[0m\u001b[0m\n\u001b[1;32m-> 2395\u001b[1;33m                 \u001b[1;32mreturn\u001b[0m \u001b[0mself\u001b[0m\u001b[1;33m.\u001b[0m\u001b[0m_engine\u001b[0m\u001b[1;33m.\u001b[0m\u001b[0mget_loc\u001b[0m\u001b[1;33m(\u001b[0m\u001b[0mself\u001b[0m\u001b[1;33m.\u001b[0m\u001b[0m_maybe_cast_indexer\u001b[0m\u001b[1;33m(\u001b[0m\u001b[0mkey\u001b[0m\u001b[1;33m)\u001b[0m\u001b[1;33m)\u001b[0m\u001b[1;33m\u001b[0m\u001b[0m\n\u001b[0m\u001b[0;32m   2396\u001b[0m \u001b[1;33m\u001b[0m\u001b[0m\n\u001b[0;32m   2397\u001b[0m         \u001b[0mindexer\u001b[0m \u001b[1;33m=\u001b[0m \u001b[0mself\u001b[0m\u001b[1;33m.\u001b[0m\u001b[0mget_indexer\u001b[0m\u001b[1;33m(\u001b[0m\u001b[1;33m[\u001b[0m\u001b[0mkey\u001b[0m\u001b[1;33m]\u001b[0m\u001b[1;33m,\u001b[0m \u001b[0mmethod\u001b[0m\u001b[1;33m=\u001b[0m\u001b[0mmethod\u001b[0m\u001b[1;33m,\u001b[0m \u001b[0mtolerance\u001b[0m\u001b[1;33m=\u001b[0m\u001b[0mtolerance\u001b[0m\u001b[1;33m)\u001b[0m\u001b[1;33m\u001b[0m\u001b[0m\n",
      "\u001b[1;32mpandas\\_libs\\index.pyx\u001b[0m in \u001b[0;36mpandas._libs.index.IndexEngine.get_loc (pandas\\_libs\\index.c:5239)\u001b[1;34m()\u001b[0m\n",
      "\u001b[1;32mpandas\\_libs\\index.pyx\u001b[0m in \u001b[0;36mpandas._libs.index.IndexEngine.get_loc (pandas\\_libs\\index.c:5085)\u001b[1;34m()\u001b[0m\n",
      "\u001b[1;32mpandas\\_libs\\hashtable_class_helper.pxi\u001b[0m in \u001b[0;36mpandas._libs.hashtable.PyObjectHashTable.get_item (pandas\\_libs\\hashtable.c:20405)\u001b[1;34m()\u001b[0m\n",
      "\u001b[1;32mpandas\\_libs\\hashtable_class_helper.pxi\u001b[0m in \u001b[0;36mpandas._libs.hashtable.PyObjectHashTable.get_item (pandas\\_libs\\hashtable.c:20359)\u001b[1;34m()\u001b[0m\n",
      "\u001b[1;31mKeyError\u001b[0m: 'avg_temp_f'"
     ]
    }
   ],
   "source": [
    "from pandas.plotting import lag_plot\n",
    "\n",
    "plt.figure()\n",
    "data = ltc1_df[\"mthly_avg_temp_f\"]\n",
    "plt.title(\"USA 2000-2012 Monthly Avg TmpF Lag Plot\")\n",
    "lag_plot(data)\n",
    "\n",
    "plt.tight_layout()\n",
    "plt.savefig(\"./images/usa_mthly_lag-plot_tmpf.png\")\n",
    "plt.show()"
   ]
  },
  {
   "cell_type": "code",
   "execution_count": null,
   "metadata": {},
   "outputs": [],
   "source": [
    "from matplotlib import pyplot as plt \n",
    "import numpy as np  \n",
    "   \n",
    "a = np.array(ltc1_df[\"mthly_avg_temp_f\"]) \n",
    "plt.hist(a, bins='auto') \n",
    "plt.title(\"USA 2000-2012 Monthly Avg TmpF Histogram\")\n",
    "plt.tight_layout()\n",
    "plt.savefig(\"./images/usa_mthly_avg_tmpf_histogram.png\") \n",
    "plt.show()"
   ]
  },
  {
   "cell_type": "code",
   "execution_count": null,
   "metadata": {},
   "outputs": [],
   "source": [
    "# create a year column for grouping\n",
    "ltc1_df[\"month\"] = ltc1_df[\"m_date\"].dt.month\n",
    "print(len(ltc1_df.index))\n",
    "ltc1_df.head(5)"
   ]
  },
  {
   "cell_type": "code",
   "execution_count": null,
   "metadata": {},
   "outputs": [],
   "source": [
    "# https://seaborn.pydata.org/generated/seaborn.regplot.html\n",
    "# import seaborn as sns; sns.set(color_codes=True)\n",
    "\n",
    "# Dependencies\n",
    "from matplotlib.figure import Figure\n",
    "import matplotlib.pyplot as plt\n",
    "import pandas as pd\n",
    "import numpy as np\n",
    "import datetime as dt\n",
    "from datetime import datetime, date, time\n",
    "import matplotlib.dates as mdates\n",
    "import seaborn as sns\n",
    "\n",
    "\n",
    "x_axis = ltc1_df[\"month\"]  \n",
    "y_axis = ltc1_df[\"mthly_avg_temp_f\"]\n",
    "\n",
    "sns.regplot(x=x_axis, y=y_axis, color=\"magenta\", marker=\"o\", fit_reg=True, \n",
    "            scatter_kws={\"s\":80, \"linewidths\":1,\"edgecolor\":\"k\"})\n",
    "\n",
    "sns.set_style(\"darkgrid\")\n",
    "sns.plt.title(\"USA Monthly Temp(F) 2000 - 2012\", \n",
    "              weight='bold').set_fontsize('16')\n",
    "sns.plt.xlabel(\"2000 - 2012\", weight='bold').set_fontsize('14')\n",
    "sns.plt.ylabel(\"Mthly Temp(F)\", weight='bold',).set_fontsize('14')\n",
    "\n",
    "plt.tight_layout()\n",
    "plt.savefig(\"usa_mthly_tmpf_2000-2012_scatter.png\",\n",
    "            bbox_inches=\"tight\")\n",
    "plt.show()"
   ]
  },
  {
   "cell_type": "code",
   "execution_count": null,
   "metadata": {},
   "outputs": [],
   "source": [
    "ltc2_df = ltc_df.loc[(ltc_df[\"country\"] == \"Australia\") &\n",
    "                       (ltc_df[\"m_date\"]>= \"2000-01-01\")]\n",
    "ltc2_df = ltc2_df.sort_values([\"m_date\"], ascending=[True]).\\\n",
    "                                reset_index(drop=True)\n",
    "print(len(ltc2_df.index))\n",
    "ltc2_df.head()"
   ]
  },
  {
   "cell_type": "code",
   "execution_count": null,
   "metadata": {},
   "outputs": [],
   "source": [
    "# Get the min and max date range\n",
    "ltc2_min_tmp = ltc2_df[\"mthly_avg_temp_f\"].min()\n",
    "ltc2_max_tmp = ltc2_df[\"mthly_avg_temp_f\"].max()\n",
    "print(\"min temperature (F) \" + str(ltc2_min_tmp) +\\\n",
    "      \" max temperature (F) \" + \\\n",
    "      str(ltc2_max_tmp))"
   ]
  },
  {
   "cell_type": "code",
   "execution_count": null,
   "metadata": {},
   "outputs": [],
   "source": [
    "# Get the min and max date range\n",
    "ltc2_min_date = ltc2_df[\"m_date\"].min()\n",
    "ltc2_max_date = ltc2_df[\"m_date\"].max()\n",
    "print(\"min year \" + str(ltc2_min_date) + \" max year \" + \\\n",
    "      str(ltc2_max_date))"
   ]
  },
  {
   "cell_type": "code",
   "execution_count": null,
   "metadata": {},
   "outputs": [],
   "source": [
    "# Dependencies\n",
    "from matplotlib.figure import Figure\n",
    "import matplotlib.pyplot as plt\n",
    "import pandas as pd\n",
    "import numpy as np\n",
    "import datetime as dt\n",
    "from datetime import datetime, date, time\n",
    "import matplotlib.dates as mdates\n",
    "\n",
    "fig = plt.figure(figsize=(12,8))\n",
    "ax = fig.add_subplot(111)\n",
    "\n",
    "x_axis = ltc2_df[\"m_date\"]  \n",
    "y_axis = ltc2_df[\"mthly_avg_temp_f\"]\n",
    "\n",
    "ax.set_title(\"Australia Monthly Average Temperatures 2000 - 2012\",\\\n",
    "             weight='bold').set_fontsize('18')\n",
    "ax.set_xlabel(\"2000 - 2012\",weight='bold').set_fontsize('14')\n",
    "ax.set_ylabel(\"Monthly Average Temperatures(F)\",weight='bold').set_fontsize('14')\n",
    "\n",
    "ax.grid(True)\n",
    "ax.set_facecolor(\"whitesmoke\")\n",
    "# fig.autofmt_xdate(rotation=45, ha='right')\n",
    "# ax.xaxis.set_major_locator(mdates.YearLocator())\n",
    "# ax.xaxis.set_major_formatter(mdates.DateFormatter('%Y'))\n",
    "\n",
    "ax.plot(x_axis, y_axis, color=\"maroon\", marker='o', linewidth= 2)\n",
    "\n",
    "ax.legend([\"Australia Monthly Avg Temp (F)\"], loc=\"upper left\")\n",
    "\n",
    "plt.tight_layout()\n",
    "plt.savefig(\"./images/2000-2012_australia_temp_chart.png\")\n",
    "plt.show()"
   ]
  },
  {
   "cell_type": "code",
   "execution_count": null,
   "metadata": {},
   "outputs": [],
   "source": [
    "from pandas.plotting import lag_plot\n",
    "\n",
    "plt.figure()\n",
    "data = ltc2_df[\"mthly_avg_temp_f\"]\n",
    "plt.title(\"Australia 2000-2012 Monthly Avg TmpF Lag Plot\")\n",
    "lag_plot(data)\n",
    "\n",
    "plt.tight_layout()\n",
    "plt.savefig(\"./images/australia_mthly_lag-plot_tmpf.png\")\n",
    "plt.show()"
   ]
  },
  {
   "cell_type": "code",
   "execution_count": null,
   "metadata": {},
   "outputs": [],
   "source": [
    "from matplotlib import pyplot as plt \n",
    "import numpy as np  \n",
    "   \n",
    "a = np.array(ltc2_df[\"mthly_avg_temp_f\"]) \n",
    "plt.hist(a, bins='auto') \n",
    "plt.title(\"Australia 2000-2012 Monthly Avg TmpF Histogram\")\n",
    "plt.tight_layout()\n",
    "plt.savefig(\"./images/australia_mthly_avg_tmpf_histogram.png\") \n",
    "plt.show()"
   ]
  },
  {
   "cell_type": "code",
   "execution_count": null,
   "metadata": {},
   "outputs": [],
   "source": [
    "# create a year column for grouping\n",
    "ltc2_df[\"month\"] = ltc2_df[\"m_date\"].dt.month\n",
    "print(len(ltc2_df.index))\n",
    "ltc2_df.head(5)"
   ]
  },
  {
   "cell_type": "code",
   "execution_count": null,
   "metadata": {},
   "outputs": [],
   "source": [
    "# https://seaborn.pydata.org/generated/seaborn.regplot.html\n",
    "# import seaborn as sns; sns.set(color_codes=True)\n",
    "\n",
    "# Dependencies\n",
    "from matplotlib.figure import Figure\n",
    "import matplotlib.pyplot as plt\n",
    "import pandas as pd\n",
    "import numpy as np\n",
    "import datetime as dt\n",
    "from datetime import datetime, date, time\n",
    "import matplotlib.dates as mdates\n",
    "import seaborn as sns\n",
    "\n",
    "\n",
    "x_axis = ltc2_df[\"month\"]  \n",
    "y_axis = ltc2_df[\"mthly_avg_temp_f\"]\n",
    "\n",
    "sns.regplot(x=x_axis, y=y_axis, color=\"maroon\", marker=\"o\", fit_reg=True, \n",
    "            scatter_kws={\"s\":80, \"linewidths\":1,\"edgecolor\":\"k\"})\n",
    "\n",
    "sns.set_style(\"darkgrid\")\n",
    "sns.plt.title(\"Australia Monthly Temp(F) 2000 - 2012\", \n",
    "              weight='bold').set_fontsize('16')\n",
    "sns.plt.xlabel(\"2000 - 2012\", weight='bold').set_fontsize('14')\n",
    "sns.plt.ylabel(\"Mthly Temp(F)\", weight='bold',).set_fontsize('14')\n",
    "\n",
    "plt.tight_layout()\n",
    "plt.savefig(\"australia_mthly_tmpf_2000-2012_scatter.png\",\n",
    "            bbox_inches=\"tight\")\n",
    "plt.show()"
   ]
  },
  {
   "cell_type": "code",
   "execution_count": null,
   "metadata": {},
   "outputs": [],
   "source": [
    "ltc3_df = ltc_df.loc[(ltc_df[\"country\"] == \"India\") &\n",
    "                       (ltc_df[\"m_date\"]>= \"2000-01-01\")]\n",
    "ltc3_df = ltc3_df.sort_values([\"m_date\"], ascending=[True]).\\\n",
    "                                reset_index(drop=True)\n",
    "print(len(ltc3_df.index))\n",
    "ltc3_df.head()"
   ]
  },
  {
   "cell_type": "code",
   "execution_count": null,
   "metadata": {},
   "outputs": [],
   "source": [
    "# Get the min and max date range\n",
    "ltc3_min_date = ltc3_df[\"m_date\"].min()\n",
    "ltc3_max_date = ltc3_df[\"m_date\"].max()\n",
    "print(\"min year \" + str(ltc3_min_date) + \" max year \" + \\\n",
    "      str(ltc3_max_date))"
   ]
  },
  {
   "cell_type": "code",
   "execution_count": null,
   "metadata": {},
   "outputs": [],
   "source": [
    "# Dependencies\n",
    "from matplotlib.figure import Figure\n",
    "import matplotlib.pyplot as plt\n",
    "import pandas as pd\n",
    "import numpy as np\n",
    "import datetime as dt\n",
    "from datetime import datetime, date, time\n",
    "import matplotlib.dates as mdates\n",
    "\n",
    "fig = plt.figure(figsize=(12,8))\n",
    "ax = fig.add_subplot(111)\n",
    "\n",
    "x_axis = ltc3_df[\"m_date\"]  \n",
    "y_axis = ltc3_df[\"mthly_avg_temp_f\"]\n",
    "\n",
    "ax.set_title(\"India Monthly Average Temperatures 2000 - 2012\",\\\n",
    "             weight='bold').set_fontsize('18')\n",
    "ax.set_xlabel(\"2000 - 2012\",weight='bold').set_fontsize('14')\n",
    "ax.set_ylabel(\"Monthly Average Temperatures(F)\",weight='bold').set_fontsize('14')\n",
    "\n",
    "ax.grid(True)\n",
    "ax.set_facecolor(\"whitesmoke\")\n",
    "# fig.autofmt_xdate(rotation=45, ha='right')\n",
    "# ax.xaxis.set_major_locator(mdates.YearLocator())\n",
    "# ax.xaxis.set_major_formatter(mdates.DateFormatter('%Y'))\n",
    "\n",
    "ax.plot(x_axis, y_axis, color=\"salmon\", marker='o', linewidth= 2)\n",
    "\n",
    "ax.legend([\"India Monthly Avg Temp (F)\"], loc=\"upper left\")\n",
    "\n",
    "plt.tight_layout()\n",
    "plt.savefig(\"./images/2000-2012_india_temp_chart.png\")\n",
    "plt.show()"
   ]
  },
  {
   "cell_type": "code",
   "execution_count": null,
   "metadata": {},
   "outputs": [],
   "source": [
    "from pandas.plotting import lag_plot\n",
    "\n",
    "plt.figure()\n",
    "data = ltc3_df[\"mthly_avg_temp_f\"]\n",
    "plt.title(\"India 2000-2012 Monthly Avg TmpF Lag Plot\")\n",
    "lag_plot(data)\n",
    "\n",
    "plt.tight_layout()\n",
    "plt.savefig(\"./images/india_mthly_lag-plot_tmpf.png\")\n",
    "plt.show()"
   ]
  },
  {
   "cell_type": "code",
   "execution_count": null,
   "metadata": {},
   "outputs": [],
   "source": [
    "from matplotlib import pyplot as plt \n",
    "import numpy as np  \n",
    "   \n",
    "a = np.array(ltc2_df[\"mthly_avg_temp_f\"]) \n",
    "plt.hist(a, bins='auto') \n",
    "plt.title(\"India 2000-2012 Monthly Avg TmpF Histogram\")\n",
    "plt.tight_layout()\n",
    "plt.savefig(\"./images/india_mthly_avg_tmpf_histogram.png\") \n",
    "plt.show()"
   ]
  },
  {
   "cell_type": "code",
   "execution_count": null,
   "metadata": {},
   "outputs": [],
   "source": [
    "# create a year column for grouping\n",
    "ltc3_df[\"month\"] = ltc3_df[\"m_date\"].dt.month\n",
    "print(len(ltc3_df.index))\n",
    "ltc3_df.head(5)"
   ]
  },
  {
   "cell_type": "code",
   "execution_count": null,
   "metadata": {},
   "outputs": [],
   "source": [
    "# https://seaborn.pydata.org/generated/seaborn.regplot.html\n",
    "# import seaborn as sns; sns.set(color_codes=True)\n",
    "\n",
    "# Dependencies\n",
    "from matplotlib.figure import Figure\n",
    "import matplotlib.pyplot as plt\n",
    "import pandas as pd\n",
    "import numpy as np\n",
    "import datetime as dt\n",
    "from datetime import datetime, date, time\n",
    "import matplotlib.dates as mdates\n",
    "import seaborn as sns\n",
    "\n",
    "\n",
    "x_axis = ltc3_df[\"month\"]  \n",
    "y_axis = ltc3_df[\"mthly_avg_temp_f\"]\n",
    "\n",
    "sns.regplot(x=x_axis, y=y_axis, color=\"salmon\", marker=\"o\", fit_reg=True, \n",
    "            scatter_kws={\"s\":80, \"linewidths\":1,\"edgecolor\":\"k\"})\n",
    "\n",
    "sns.set_style(\"darkgrid\")\n",
    "sns.plt.title(\"India Monthly Temp(F) 2000 - 2012\", \n",
    "              weight='bold').set_fontsize('16')\n",
    "sns.plt.xlabel(\"2000 - 2012\", weight='bold').set_fontsize('14')\n",
    "sns.plt.ylabel(\"Mthly Temp(F)\", weight='bold',).set_fontsize('14')\n",
    "\n",
    "plt.tight_layout()\n",
    "plt.savefig(\"india_mthly_tmpf_2000-2012_scatter.png\",\n",
    "            bbox_inches=\"tight\")\n",
    "plt.show()"
   ]
  },
  {
   "cell_type": "code",
   "execution_count": null,
   "metadata": {},
   "outputs": [],
   "source": [
    "# Dependencies\n",
    "from matplotlib.figure import Figure\n",
    "import matplotlib.pyplot as plt\n",
    "import pandas as pd\n",
    "import numpy as np\n",
    "import datetime as dt\n",
    "from datetime import datetime, date, time\n",
    "import matplotlib.dates as mdates\n",
    "\n",
    "fig = plt.figure(figsize=(12,8))\n",
    "ax = fig.add_subplot(111)\n",
    "\n",
    "x_axis = ltc1_df[\"m_date\"]  \n",
    "y1_axis = ltc1_df[\"mthly_avg_temp_f\"]\n",
    "y2_axis = ltc2_df[\"mthly_avg_temp_f\"]\n",
    "y3_axis = ltc3_df[\"mthly_avg_temp_f\"]\n",
    "\n",
    "\n",
    "\n",
    "\n",
    "ax.set_title(\"Monthly Avg Temp(F) USA-AU-IN\",\\\n",
    "             weight='bold').set_fontsize('18')\n",
    "ax.set_xlabel(\"2000 - 2012\", weight='bold').set_fontsize('14')\n",
    "ax.set_ylabel(\"Monthly Avg Temps(F) USA-AU-IN\", \n",
    "              weight='bold').set_fontsize('14')\n",
    "\n",
    "ax.grid(True)\n",
    "ax.set_facecolor(\"whitesmoke\")\n",
    "fig.autofmt_xdate(rotation=45, ha='right')\n",
    "\n",
    "ax.plot(x_axis, y1_axis, color=\"magenta\", marker='^', linewidth= 2)\n",
    "ax.plot(x_axis, y2_axis, color=\"maroon\", marker='d', linewidth= 2)\n",
    "ax.plot(x_axis, y3_axis, color=\"salmon\", marker='s', linewidth= 2)\n",
    "\n",
    "\n",
    "\n",
    "ax.legend([\"USA Avg(F)\",\"Australia Avg(F)\",\"India Avg(F)\"],\n",
    "          bbox_to_anchor=(1.0,.65))\n",
    "\n",
    "plt.tight_layout()\n",
    "plt.savefig(\"./images/montly_avg_tempf_usa-au-in.png\")\n",
    "plt.show()"
   ]
  },
  {
   "cell_type": "markdown",
   "metadata": {},
   "source": [
    "## Box and Whisker Plots\n",
    "Another useful way to review the distribution of each attribute \n",
    "is to use Box and Whisker Plots or boxplots for short. Boxplots summarize the distribution of each attribute, drawing a line for the median (middle value) and a box around the 25th and 75th percentiles (the middle 50% of the data). The whiskers give an idea of the spread of the data and dots outside of the whiskers show candidate outlier values (values that are 1.5 times greater than the size of spread of the middle 50% of the data)."
   ]
  },
  {
   "cell_type": "code",
   "execution_count": null,
   "metadata": {},
   "outputs": [],
   "source": [
    "# Box and Whisker Plots\n",
    "from matplotlib import pyplot\n",
    "\n",
    "ltc1_df[\"mthly_avg_temp_f\"].plot(kind='box', \n",
    "        title=\"USA 2000-2012 Monthly Avg Tmp(F)\", \n",
    "        sharex=False, sharey=False)\n",
    "pyplot.show()"
   ]
  },
  {
   "cell_type": "code",
   "execution_count": null,
   "metadata": {},
   "outputs": [],
   "source": [
    "# Box and Whisker Plots\n",
    "from matplotlib import pyplot\n",
    "\n",
    "ltc2_df[\"mthly_avg_temp_f\"].plot(kind='box', \n",
    "        title=\"Australia 2000-2012 Monthly Avg Tmp(F)\", \n",
    "        sharex=False, sharey=False)\n",
    "pyplot.show()"
   ]
  },
  {
   "cell_type": "code",
   "execution_count": null,
   "metadata": {},
   "outputs": [],
   "source": [
    "# Box and Whisker Plots\n",
    "from matplotlib import pyplot\n",
    "\n",
    "ltc3_df[\"mthly_avg_temp_f\"].plot(kind='box', \n",
    "        title=\"India 2000-2012 Monthly Avg Tmp(F)\", \n",
    "        sharex=False, sharey=False)\n",
    "pyplot.show()"
   ]
  },
  {
   "cell_type": "code",
   "execution_count": null,
   "metadata": {
    "collapsed": true
   },
   "outputs": [],
   "source": []
  }
 ],
 "metadata": {
  "kernelspec": {
   "display_name": "Python 3",
   "language": "python",
   "name": "python3"
  },
  "language_info": {
   "codemirror_mode": {
    "name": "ipython",
    "version": 3
   },
   "file_extension": ".py",
   "mimetype": "text/x-python",
   "name": "python",
   "nbconvert_exporter": "python",
   "pygments_lexer": "ipython3",
   "version": "3.6.1"
  }
 },
 "nbformat": 4,
 "nbformat_minor": 2
}
