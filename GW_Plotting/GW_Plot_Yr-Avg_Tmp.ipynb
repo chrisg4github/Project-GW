{
 "cells": [
  {
   "cell_type": "code",
   "execution_count": null,
   "metadata": {
    "collapsed": true
   },
   "outputs": [],
   "source": [
    "import pandas as pd\n",
    "import numpy as np\n",
    "import scipy as sp"
   ]
  },
  {
   "cell_type": "markdown",
   "metadata": {},
   "source": [
    "## Countries with co2 data in 1850\n",
    "Hungary, Canada, Russia, Norway, Sweden, Denmark, Ireland, Spain, Austria, Netherlands, Poland, Belgium, Germany, France, USA, UK.\n",
    "\n",
    "## G20 Countries\n",
    "The G20 consists of Argentina, Australia, Brazil, Canada, China, France, Germany, India, Indonesia, Italy, Japan, Mexico, Russia, Saudi Arabia, South Africa, South Korea, Turkey, United Kingdom, United States, and the European Union.\n",
    "\n"
   ]
  },
  {
   "cell_type": "code",
   "execution_count": null,
   "metadata": {},
   "outputs": [],
   "source": [
    "# Store filepath in a variable: use parse_dates=[\"date\"] \n",
    "# \n",
    "gltc = \"./data/clean/clean_YearlyLandAvgTempsByCountry.csv\"\n",
    "\n",
    "# Read our Data file with the pandas library\n",
    "gltc_df = pd.read_csv(gltc,encoding=\"ISO-8859-1\")\n",
    "print(len(gltc_df.index))\n",
    "gltc_df.info()"
   ]
  },
  {
   "cell_type": "code",
   "execution_count": null,
   "metadata": {},
   "outputs": [],
   "source": [
    "# Set the index to the date column for pandas df.plot()\n",
    "gltc1_df = gltc_df.loc[gltc_df[\"country\"] == \"United States\"]\n",
    "gltc1_df = gltc1_df.sort_values([\"year\"], ascending=[True]).\\\n",
    "                                reset_index(drop=True)\n",
    "print(len(gltc1_df.index))"
   ]
  },
  {
   "cell_type": "code",
   "execution_count": null,
   "metadata": {},
   "outputs": [],
   "source": [
    "# Get the min and max date range\n",
    "gltc1_min_tmp = gltc1_df[\"avg_yly_tmp_f\"].min()\n",
    "gltc1_max_tmp = gltc1_df[\"avg_yly_tmp_f\"].max()\n",
    "print(\"min temperature (F) \" + str(gltc1_min_tmp) + \" max temperature (F) \" + \\\n",
    "      str(gltc1_max_tmp))"
   ]
  },
  {
   "cell_type": "code",
   "execution_count": null,
   "metadata": {},
   "outputs": [],
   "source": [
    "# Get the min and max date range\n",
    "gltc1_min_date = gltc1_df[\"year\"].min()\n",
    "gltc1_max_date = gltc1_df[\"year\"].max()\n",
    "print(\"min year \" + str(gltc1_min_date) + \" max year \" + \\\n",
    "      str(gltc1_max_date))"
   ]
  },
  {
   "cell_type": "code",
   "execution_count": null,
   "metadata": {},
   "outputs": [],
   "source": [
    "# Dependencies\n",
    "from matplotlib.figure import Figure\n",
    "import matplotlib.pyplot as plt\n",
    "import pandas as pd\n",
    "import numpy as np\n",
    "import datetime as dt\n",
    "from datetime import datetime, date, time\n",
    "import matplotlib.dates as mdates\n",
    "\n",
    "fig = plt.figure(figsize=(12,6))\n",
    "ax = fig.add_subplot(111)\n",
    "\n",
    "x_axis = gltc1_df[\"year\"]  \n",
    "y_axis = gltc1_df[\"avg_yly_tmp_f\"]\n",
    "\n",
    "ax.set_title(\"USA Average Temperatures 1768 - 2012\",\\\n",
    "             weight='bold').set_fontsize('18')\n",
    "ax.set_xlabel(\"1768 - 2012\").set_fontsize('14')\n",
    "ax.set_ylabel(\"Average Temperatures(F)\").set_fontsize('14')\n",
    "\n",
    "ax.grid(True)\n",
    "ax.set_facecolor(\"whitesmoke\")\n",
    "# fig.autofmt_xdate(rotation=45, ha='right')\n",
    "# ax.xaxis.set_major_locator(mdates.YearLocator())\n",
    "# ax.xaxis.set_major_formatter(mdates.DateFormatter('%Y'))\n",
    "\n",
    "ax.plot(x_axis, y_axis, color=\"magenta\", linewidth= 1)\n",
    "\n",
    "ax.legend([\"USA Avg Temp (F)\"], loc=\"upper left\")\n",
    "\n",
    "plt.tight_layout()\n",
    "plt.savefig(\"./images/1768-2012_usa_temp_chart.png\")\n",
    "plt.show()"
   ]
  },
  {
   "cell_type": "code",
   "execution_count": null,
   "metadata": {},
   "outputs": [],
   "source": [
    "# Set the index to the date column for pandas df.plot()\n",
    "gltc2_df = gltc_df.loc[gltc_df[\"country\"] == \"Canada\"]\n",
    "gltc2_df = gltc2_df.sort_values([\"year\"], ascending=[True]).\\\n",
    "                                reset_index(drop=True)\n",
    "print(len(gltc2_df.index))"
   ]
  },
  {
   "cell_type": "code",
   "execution_count": null,
   "metadata": {},
   "outputs": [],
   "source": [
    "# Get the min and max date range\n",
    "gltc2_min_tmp = gltc2_df[\"avg_yly_tmp_f\"].min()\n",
    "gltc2_max_tmp = gltc2_df[\"avg_yly_tmp_f\"].max()\n",
    "print(\"min temperature (F) \" + str(gltc2_min_tmp) +\\\n",
    "      \" max temperature (F) \" + str(gltc2_max_tmp))"
   ]
  },
  {
   "cell_type": "code",
   "execution_count": null,
   "metadata": {},
   "outputs": [],
   "source": [
    "# Get the min and max date range\n",
    "gltc2_min_date = gltc2_df[\"year\"].min()\n",
    "gltc2_max_date = gltc2_df[\"year\"].max()\n",
    "print(\"min year \" + str(gltc2_min_date) + \" max year \" + \\\n",
    "      str(gltc2_max_date))"
   ]
  },
  {
   "cell_type": "code",
   "execution_count": null,
   "metadata": {},
   "outputs": [],
   "source": [
    "# Dependencies\n",
    "from matplotlib.figure import Figure\n",
    "import matplotlib.pyplot as plt\n",
    "import pandas as pd\n",
    "import numpy as np\n",
    "import datetime as dt\n",
    "from datetime import datetime, date, time\n",
    "import matplotlib.dates as mdates\n",
    "\n",
    "fig = plt.figure(figsize=(12,6))\n",
    "ax = fig.add_subplot(111)\n",
    "\n",
    "x_axis = gltc2_df[\"year\"]  \n",
    "y_axis = gltc2_df[\"avg_yly_tmp_f\"]\n",
    "\n",
    "ax.set_title(\"Canada Average Temperatures 1768 - 2012\",\\\n",
    "             weight='bold').set_fontsize('18')\n",
    "ax.set_xlabel(\"1768 - 2012\").set_fontsize('14')\n",
    "ax.set_ylabel(\"Average Temperatures(F)\").set_fontsize('14')\n",
    "\n",
    "ax.grid(True)\n",
    "ax.set_facecolor(\"whitesmoke\")\n",
    "ax.plot(x_axis, y_axis, color=\"orange\", linewidth= 1)\n",
    "\n",
    "ax.legend([\"Canada Avg Temp (F)\"], loc=\"upper left\")\n",
    "\n",
    "plt.tight_layout()\n",
    "plt.savefig(\"./images/1768-2012_canada_temp_chart.png\")\n",
    "plt.show()"
   ]
  },
  {
   "cell_type": "code",
   "execution_count": null,
   "metadata": {},
   "outputs": [],
   "source": [
    "# Set the index to the date column for pandas df.plot()\n",
    "gltc3_df = gltc_df.loc[gltc_df[\"country\"] == \"France\"]\n",
    "gltc3_df = gltc3_df.sort_values([\"year\"], ascending=[True]).\\\n",
    "                                reset_index(drop=True)\n",
    "print(len(gltc3_df.index))"
   ]
  },
  {
   "cell_type": "code",
   "execution_count": null,
   "metadata": {},
   "outputs": [],
   "source": [
    "# Get the min and max date range\n",
    "gltc3_min_tmp = gltc3_df[\"avg_yly_tmp_f\"].min()\n",
    "gltc3_max_tmp = gltc3_df[\"avg_yly_tmp_f\"].max()\n",
    "print(\"min temperature (F) \" + str(gltc3_min_tmp) +\\\n",
    "      \" max temperature (F) \" + str(gltc3_max_tmp))"
   ]
  },
  {
   "cell_type": "code",
   "execution_count": null,
   "metadata": {},
   "outputs": [],
   "source": [
    "# Get the min and max date range\n",
    "gltc3_min_date = gltc3_df[\"year\"].min()\n",
    "gltc3_max_date = gltc3_df[\"year\"].max()\n",
    "print(\"min year \" + str(gltc3_min_date) + \" max year \" + \\\n",
    "      str(gltc3_max_date))"
   ]
  },
  {
   "cell_type": "code",
   "execution_count": null,
   "metadata": {},
   "outputs": [],
   "source": [
    "# Dependencies\n",
    "from matplotlib.figure import Figure\n",
    "import matplotlib.pyplot as plt\n",
    "import pandas as pd\n",
    "import numpy as np\n",
    "import datetime as dt\n",
    "from datetime import datetime, date, time\n",
    "import matplotlib.dates as mdates\n",
    "\n",
    "fig = plt.figure(figsize=(12,6))\n",
    "ax = fig.add_subplot(111)\n",
    "\n",
    "x_axis = gltc3_df[\"year\"]  \n",
    "y_axis = gltc3_df[\"avg_yly_tmp_f\"]\n",
    "\n",
    "ax.set_title(\"France Average Temperatures 1744 - 2012\",\\\n",
    "             weight='bold').set_fontsize('18')\n",
    "ax.set_xlabel(\"1768 - 2012\").set_fontsize('14')\n",
    "ax.set_ylabel(\"Average Temperatures(F)\").set_fontsize('14')\n",
    "\n",
    "ax.grid(True)\n",
    "ax.set_facecolor(\"whitesmoke\")\n",
    "ax.plot(x_axis, y_axis, color=\"red\", linewidth= 1)\n",
    "\n",
    "ax.legend([\"France Avg Temp (F)\"], loc=\"upper left\")\n",
    "\n",
    "plt.tight_layout()\n",
    "plt.savefig(\"./images/1744-2012_france_temp_chart.png\")\n",
    "plt.show()"
   ]
  },
  {
   "cell_type": "code",
   "execution_count": null,
   "metadata": {},
   "outputs": [],
   "source": [
    "# Set the index to the date column for pandas df.plot()\n",
    "gltc4_df = gltc_df.loc[gltc_df[\"country\"] == \"Germany\"]\n",
    "#print(len(gltc1_df.index))\n",
    "#gltc1_df.info()\n",
    "gltc4_df = gltc4_df.sort_values([\"year\"], ascending=[True]).\\\n",
    "                                reset_index(drop=True)\n",
    "print(len(gltc4_df.index))"
   ]
  },
  {
   "cell_type": "code",
   "execution_count": null,
   "metadata": {},
   "outputs": [],
   "source": [
    "# Get the min and max date range\n",
    "gltc4_min_tmp = gltc4_df[\"avg_yly_tmp_f\"].min()\n",
    "gltc4_max_tmp = gltc4_df[\"avg_yly_tmp_f\"].max()\n",
    "print(\"min temperature (F) \" + str(gltc4_min_tmp) +\\\n",
    "      \" max temperature (F) \" + str(gltc4_max_tmp))"
   ]
  },
  {
   "cell_type": "code",
   "execution_count": null,
   "metadata": {},
   "outputs": [],
   "source": [
    "# Get the min and max date range\n",
    "gltc4_min_date = gltc4_df[\"year\"].min()\n",
    "gltc4_max_date = gltc4_df[\"year\"].max()\n",
    "print(\"min year \" + str(gltc4_min_date) + \" max year \" + \\\n",
    "      str(gltc4_max_date))"
   ]
  },
  {
   "cell_type": "code",
   "execution_count": null,
   "metadata": {},
   "outputs": [],
   "source": [
    "# Dependencies\n",
    "from matplotlib.figure import Figure\n",
    "import matplotlib.pyplot as plt\n",
    "import pandas as pd\n",
    "import numpy as np\n",
    "import datetime as dt\n",
    "from datetime import datetime, date, time\n",
    "import matplotlib.dates as mdates\n",
    "\n",
    "fig = plt.figure(figsize=(12,6))\n",
    "ax = fig.add_subplot(111)\n",
    "\n",
    "x_axis = gltc4_df[\"year\"]  \n",
    "y_axis = gltc4_df[\"avg_yly_tmp_f\"]\n",
    "\n",
    "ax.set_title(\"Germany Average Temperatures 1744 - 2012\",\\\n",
    "             weight='bold').set_fontsize('18')\n",
    "ax.set_xlabel(\"1744 - 2012\").set_fontsize('14')\n",
    "ax.set_ylabel(\"Average Temperatures(F)\").set_fontsize('14')\n",
    "\n",
    "ax.grid(True)\n",
    "ax.set_facecolor(\"whitesmoke\")\n",
    "ax.plot(x_axis, y_axis, color=\"blue\", linewidth= 1)\n",
    "\n",
    "ax.legend([\"Germany Avg Temp (F)\"], loc=\"upper left\")\n",
    "\n",
    "plt.tight_layout()\n",
    "plt.savefig(\"./images/1744-2012_germany_temp_chart.png\")\n",
    "plt.show()"
   ]
  },
  {
   "cell_type": "code",
   "execution_count": null,
   "metadata": {},
   "outputs": [],
   "source": [
    "# Set the index to the date column for pandas df.plot()\n",
    "gltc5_df = gltc_df.loc[gltc_df[\"country\"] == \"Italy\"]\n",
    "gltc5_df = gltc5_df.sort_values([\"year\"], ascending=[True]).\\\n",
    "                                reset_index(drop=True)\n",
    "print(len(gltc5_df.index))"
   ]
  },
  {
   "cell_type": "code",
   "execution_count": null,
   "metadata": {},
   "outputs": [],
   "source": [
    "gltc5_min_tmp = gltc5_df[\"avg_yly_tmp_f\"].min()\n",
    "gltc5_max_tmp = gltc5_df[\"avg_yly_tmp_f\"].max()\n",
    "print(\"min temperature (F) \" + str(gltc5_min_tmp) +\\\n",
    "      \" max temperature (F) \" + str(gltc5_max_tmp))"
   ]
  },
  {
   "cell_type": "code",
   "execution_count": null,
   "metadata": {},
   "outputs": [],
   "source": [
    "# Get the min and max date range\n",
    "gltc5_min_date = gltc5_df[\"year\"].min()\n",
    "gltc5_max_date = gltc5_df[\"year\"].max()\n",
    "print(\"min year \" + str(gltc5_min_date) + \" max year \" + \\\n",
    "      str(gltc5_max_date))"
   ]
  },
  {
   "cell_type": "code",
   "execution_count": null,
   "metadata": {},
   "outputs": [],
   "source": [
    "# Dependencies\n",
    "from matplotlib.figure import Figure\n",
    "import matplotlib.pyplot as plt\n",
    "import pandas as pd\n",
    "import numpy as np\n",
    "import datetime as dt\n",
    "from datetime import datetime, date, time\n",
    "import matplotlib.dates as mdates\n",
    "\n",
    "fig = plt.figure(figsize=(12,6))\n",
    "ax = fig.add_subplot(111)\n",
    "\n",
    "x_axis = gltc5_df[\"year\"]  \n",
    "y_axis = gltc5_df[\"avg_yly_tmp_f\"]\n",
    "\n",
    "ax.set_title(\"Italy Average Temperatures 1744 - 2012\",\\\n",
    "             weight='bold').set_fontsize('18')\n",
    "ax.set_xlabel(\"1744 - 2012\").set_fontsize('14')\n",
    "ax.set_ylabel(\"Average Temperatures(F)\").set_fontsize('14')\n",
    "\n",
    "ax.grid(True)\n",
    "ax.set_facecolor(\"whitesmoke\")\n",
    "ax.plot(x_axis, y_axis, color=\"green\", linewidth= 1)\n",
    "\n",
    "ax.legend([\"Italy Avg Temp (F)\"], loc=\"upper left\")\n",
    "\n",
    "plt.tight_layout()\n",
    "plt.savefig(\"./images/1744-2012_italy_temp_chart.png\")\n",
    "plt.show()"
   ]
  },
  {
   "cell_type": "code",
   "execution_count": null,
   "metadata": {},
   "outputs": [],
   "source": [
    "# Set the index to the date column for pandas df.plot()\n",
    "gltc6_df = gltc_df.loc[gltc_df[\"country\"] == \"United Kingdom\"]\n",
    "gltc6_df = gltc6_df.sort_values([\"year\"], ascending=[True]).\\\n",
    "                                reset_index(drop=True)\n",
    "print(len(gltc6_df.index))"
   ]
  },
  {
   "cell_type": "code",
   "execution_count": null,
   "metadata": {},
   "outputs": [],
   "source": [
    "# Get the min and max date range\n",
    "gltc6_min_tmp = gltc6_df[\"avg_yly_tmp_f\"].min()\n",
    "gltc6_max_tmp = gltc6_df[\"avg_yly_tmp_f\"].max()\n",
    "print(\"min temperature (F) \" + str(gltc6_min_tmp) +\\\n",
    "      \" max temperature (F) \" + str(gltc6_max_tmp))"
   ]
  },
  {
   "cell_type": "code",
   "execution_count": null,
   "metadata": {},
   "outputs": [],
   "source": [
    "# Get the min and max date range\n",
    "gltc6_min_date = gltc6_df[\"year\"].min()\n",
    "gltc6_max_date = gltc6_df[\"year\"].max()\n",
    "print(\"min year \" + str(gltc6_min_date) + \" max year \" + \\\n",
    "      str(gltc6_max_date))"
   ]
  },
  {
   "cell_type": "code",
   "execution_count": null,
   "metadata": {},
   "outputs": [],
   "source": [
    "# Dependencies\n",
    "from matplotlib.figure import Figure\n",
    "import matplotlib.pyplot as plt\n",
    "import pandas as pd\n",
    "import numpy as np\n",
    "import datetime as dt\n",
    "from datetime import datetime, date, time\n",
    "import matplotlib.dates as mdates\n",
    "\n",
    "fig = plt.figure(figsize=(12,6))\n",
    "ax = fig.add_subplot(111)\n",
    "\n",
    "x_axis = gltc6_df[\"year\"]  \n",
    "y_axis = gltc6_df[\"avg_yly_tmp_f\"]\n",
    "\n",
    "ax.set_title(\"UK Average Temperatures 1744 - 2012\", weight='bold').set_fontsize('18')\n",
    "ax.set_xlabel(\"1744 - 2012\").set_fontsize('14')\n",
    "ax.set_ylabel(\"Average Temperatures(F)\").set_fontsize('14')\n",
    "\n",
    "ax.grid(True)\n",
    "ax.set_facecolor(\"whitesmoke\")\n",
    "ax.plot(x_axis, y_axis, color=\"cyan\", linewidth= 1)\n",
    "\n",
    "ax.legend([\"UK Avg Temp (F)\"], loc=\"upper left\")\n",
    "\n",
    "plt.tight_layout()\n",
    "plt.savefig(\"./images/1744-2012_uk_temp_chart.png\")\n",
    "plt.show()"
   ]
  },
  {
   "cell_type": "code",
   "execution_count": null,
   "metadata": {},
   "outputs": [],
   "source": [
    "# Set the index to the date column for pandas df.plot()\n",
    "gltc7_df = gltc_df.loc[gltc_df[\"country\"] == \"Spain\"]\n",
    "gltc7_df = gltc7_df.sort_values([\"year\"], ascending=[True]).\\\n",
    "                                reset_index(drop=True)\n",
    "print(len(gltc7_df.index))"
   ]
  },
  {
   "cell_type": "code",
   "execution_count": null,
   "metadata": {},
   "outputs": [],
   "source": [
    "# Get the min and max date range\n",
    "gltc7_min_tmp = gltc7_df[\"avg_yly_tmp_f\"].min()\n",
    "gltc7_max_tmp = gltc7_df[\"avg_yly_tmp_f\"].max()\n",
    "print(\"min temperature (F) \" + str(gltc7_min_tmp) +\\\n",
    "      \" max temperature (F) \" + str(gltc7_max_tmp))"
   ]
  },
  {
   "cell_type": "code",
   "execution_count": null,
   "metadata": {},
   "outputs": [],
   "source": [
    "# Get the min and max date range\n",
    "gltc7_min_date = gltc7_df[\"year\"].min()\n",
    "gltc7_max_date = gltc7_df[\"year\"].max()\n",
    "print(\"min year \" + str(gltc7_min_date) + \" max year \" + \\\n",
    "      str(gltc7_max_date))"
   ]
  },
  {
   "cell_type": "code",
   "execution_count": null,
   "metadata": {},
   "outputs": [],
   "source": [
    "# Dependencies\n",
    "from matplotlib.figure import Figure\n",
    "import matplotlib.pyplot as plt\n",
    "import pandas as pd\n",
    "import numpy as np\n",
    "import datetime as dt\n",
    "from datetime import datetime, date, time\n",
    "import matplotlib.dates as mdates\n",
    "\n",
    "fig = plt.figure(figsize=(12,6))\n",
    "ax = fig.add_subplot(111)\n",
    "\n",
    "x_axis = gltc7_df[\"year\"]  \n",
    "y_axis = gltc7_df[\"avg_yly_tmp_f\"]\n",
    "\n",
    "ax.set_title(\"Spain Average Temperatures 1744 - 2012\", weight='bold').set_fontsize('18')\n",
    "ax.set_xlabel(\"1744 - 2012\").set_fontsize('14')\n",
    "ax.set_ylabel(\"Average Temperatures(F)\").set_fontsize('14')\n",
    "\n",
    "ax.grid(True)\n",
    "ax.set_facecolor(\"whitesmoke\")\n",
    "ax.plot(x_axis, y_axis, color=\"cyan\", linewidth= 1)\n",
    "\n",
    "ax.legend([\"Spain Avg Temp (F)\"], loc=\"upper left\")\n",
    "\n",
    "plt.tight_layout()\n",
    "plt.savefig(\"./images/1744-2012_spain_temp_chart.png\")\n",
    "plt.show()"
   ]
  },
  {
   "cell_type": "code",
   "execution_count": null,
   "metadata": {},
   "outputs": [],
   "source": [
    "# Set the index to the date column for pandas df.plot()\n",
    "gltc8_df = gltc_df.loc[gltc_df[\"country\"] == \"China\"]\n",
    "gltc8_df = gltc8_df.sort_values([\"year\"], ascending=[True]).\\\n",
    "                                reset_index(drop=True)\n",
    "print(len(gltc8_df.index))"
   ]
  },
  {
   "cell_type": "code",
   "execution_count": null,
   "metadata": {},
   "outputs": [],
   "source": [
    "# Get the min and max date range\n",
    "gltc8_min_tmp = gltc8_df[\"avg_yly_tmp_f\"].min()\n",
    "gltc8_max_tmp = gltc8_df[\"avg_yly_tmp_f\"].max()\n",
    "print(\"min temperature (F) \" + str(gltc8_min_tmp) +\\\n",
    "      \" max temperature (F) \" + str(gltc8_max_tmp))"
   ]
  },
  {
   "cell_type": "code",
   "execution_count": null,
   "metadata": {},
   "outputs": [],
   "source": [
    "# Get the min and max date range\n",
    "gltc8_min_date = gltc8_df[\"year\"].min()\n",
    "gltc8_max_date = gltc8_df[\"year\"].max()\n",
    "print(\"min year \" + str(gltc8_min_date) + \" max year \" + \\\n",
    "      str(gltc8_max_date))"
   ]
  },
  {
   "cell_type": "code",
   "execution_count": null,
   "metadata": {},
   "outputs": [],
   "source": [
    "# Dependencies\n",
    "from matplotlib.figure import Figure\n",
    "import matplotlib.pyplot as plt\n",
    "import pandas as pd\n",
    "import numpy as np\n",
    "import datetime as dt\n",
    "from datetime import datetime, date, time\n",
    "import matplotlib.dates as mdates\n",
    "\n",
    "fig = plt.figure(figsize=(12,6))\n",
    "ax = fig.add_subplot(111)\n",
    "\n",
    "x_axis = gltc8_df[\"year\"]  \n",
    "y_axis = gltc8_df[\"avg_yly_tmp_f\"]\n",
    "\n",
    "ax.set_title(\"China Average Temperatures 1820 - 2012\", weight='bold').set_fontsize('18')\n",
    "ax.set_xlabel(\"1820 - 2012\").set_fontsize('14')\n",
    "ax.set_ylabel(\"Average Temperatures(F)\").set_fontsize('14')\n",
    "\n",
    "ax.grid(True)\n",
    "ax.set_facecolor(\"whitesmoke\")\n",
    "ax.plot(x_axis, y_axis, color=\"yellowgreen\", linewidth= 1)\n",
    "\n",
    "ax.legend([\"China Avg Temp (F)\"], loc=\"upper left\")\n",
    "\n",
    "plt.tight_layout()\n",
    "plt.savefig(\"./images/1820-2012_china_temp_chart.png\")\n",
    "plt.show()"
   ]
  },
  {
   "cell_type": "code",
   "execution_count": null,
   "metadata": {},
   "outputs": [],
   "source": [
    "# Set the index to the date column for pandas df.plot()\n",
    "gltc9_df = gltc_df.loc[gltc_df[\"country\"] == \"India\"]\n",
    "gltc9_df = gltc9_df.sort_values([\"year\"], ascending=[True]).\\\n",
    "                                reset_index(drop=True)\n",
    "print(len(gltc9_df.index))"
   ]
  },
  {
   "cell_type": "code",
   "execution_count": null,
   "metadata": {},
   "outputs": [],
   "source": [
    "# Get the min and max date range\n",
    "gltc9_min_tmp = gltc9_df[\"avg_yly_tmp_f\"].min()\n",
    "gltc9_max_tmp = gltc9_df[\"avg_yly_tmp_f\"].max()\n",
    "print(\"min temperature (F) \" + str(gltc9_min_tmp) +\\\n",
    "      \" max temperature (F) \" + str(gltc9_max_tmp))"
   ]
  },
  {
   "cell_type": "code",
   "execution_count": null,
   "metadata": {},
   "outputs": [],
   "source": [
    "# Get the min and max date range\n",
    "gltc9_min_date = gltc9_df[\"year\"].min()\n",
    "gltc9_max_date = gltc9_df[\"year\"].max()\n",
    "print(\"min year \" + str(gltc9_min_date) + \" max year \" + \\\n",
    "      str(gltc9_max_date))"
   ]
  },
  {
   "cell_type": "code",
   "execution_count": null,
   "metadata": {},
   "outputs": [],
   "source": [
    "# Dependencies\n",
    "from matplotlib.figure import Figure\n",
    "import matplotlib.pyplot as plt\n",
    "import pandas as pd\n",
    "import numpy as np\n",
    "import datetime as dt\n",
    "from datetime import datetime, date, time\n",
    "import matplotlib.dates as mdates\n",
    "\n",
    "fig = plt.figure(figsize=(12,6))\n",
    "ax = fig.add_subplot(111)\n",
    "\n",
    "x_axis = gltc9_df[\"year\"]  \n",
    "y_axis = gltc9_df[\"avg_yly_tmp_f\"]\n",
    "\n",
    "ax.set_title(\"India Average Temperatures 1796 - 2012\", weight='bold').set_fontsize('18')\n",
    "ax.set_xlabel(\"1796 - 2012\").set_fontsize('14')\n",
    "ax.set_ylabel(\"Average Temperatures(F)\").set_fontsize('14')\n",
    "\n",
    "ax.grid(True)\n",
    "ax.set_facecolor(\"whitesmoke\")\n",
    "ax.plot(x_axis, y_axis, color=\"salmon\", linewidth= 1)\n",
    "\n",
    "ax.legend([\"India Avg Temp (F)\"], loc=\"upper left\")\n",
    "\n",
    "plt.tight_layout()\n",
    "plt.savefig(\"./images/1796-2012_india_temp_chart.png\")\n",
    "plt.show()"
   ]
  },
  {
   "cell_type": "code",
   "execution_count": null,
   "metadata": {},
   "outputs": [],
   "source": [
    "# Set the index to the date column for pandas df.plot()\n",
    "gltc10_df = gltc_df.loc[gltc_df[\"country\"] == \"Turkey\"]\n",
    "gltc10_df = gltc10_df.sort_values([\"year\"], ascending=[True]).\\\n",
    "                                reset_index(drop=True)\n",
    "print(len(gltc10_df.index))"
   ]
  },
  {
   "cell_type": "code",
   "execution_count": null,
   "metadata": {},
   "outputs": [],
   "source": [
    "# Get the min and max date range\n",
    "gltc10_min_tmp = gltc10_df[\"avg_yly_tmp_f\"].min()\n",
    "gltc10_max_tmp = gltc10_df[\"avg_yly_tmp_f\"].max()\n",
    "print(\"min temperature (F) \" + str(gltc10_min_tmp) +\\\n",
    "      \" max temperature (F) \" + str(gltc10_max_tmp))"
   ]
  },
  {
   "cell_type": "code",
   "execution_count": null,
   "metadata": {},
   "outputs": [],
   "source": [
    "# Get the min and max date range\n",
    "gltc10_min_date = gltc10_df[\"year\"].min()\n",
    "gltc10_max_date = gltc10_df[\"year\"].max()\n",
    "print(\"min year \" + str(gltc10_min_date) + \" max year \" + \\\n",
    "      str(gltc10_max_date))"
   ]
  },
  {
   "cell_type": "code",
   "execution_count": null,
   "metadata": {},
   "outputs": [],
   "source": [
    "# Dependencies\n",
    "from matplotlib.figure import Figure\n",
    "import matplotlib.pyplot as plt\n",
    "import pandas as pd\n",
    "import numpy as np\n",
    "import datetime as dt\n",
    "from datetime import datetime, date, time\n",
    "import matplotlib.dates as mdates\n",
    "\n",
    "fig = plt.figure(figsize=(12,6))\n",
    "ax = fig.add_subplot(111)\n",
    "\n",
    "x_axis = gltc10_df[\"year\"]  \n",
    "y_axis = gltc10_df[\"avg_yly_tmp_f\"]\n",
    "\n",
    "ax.set_title(\"Turkey Average Temperatures 1777 - 2012\", weight='bold').set_fontsize('18')\n",
    "ax.set_xlabel(\"1777 - 2012\").set_fontsize('14')\n",
    "ax.set_ylabel(\"Average Temperatures(F)\").set_fontsize('14')\n",
    "\n",
    "ax.grid(True)\n",
    "ax.set_facecolor(\"whitesmoke\")\n",
    "linestyles = ['-', '--', '-.', ':']\n",
    "ax.plot(x_axis, y_axis, color=\"limegreen\", linestyle=linestyles[2], linewidth= 1)\n",
    "\n",
    "ax.legend([\"Turkey Avg Temp (F)\"], loc=\"upper left\")\n",
    "\n",
    "plt.tight_layout()\n",
    "plt.savefig(\"./images/1777-2012_turkey_temp_chart.png\")\n",
    "plt.show()"
   ]
  },
  {
   "cell_type": "code",
   "execution_count": null,
   "metadata": {},
   "outputs": [],
   "source": [
    "# Set the index to the date column for pandas df.plot()\n",
    "gltc11_df = gltc_df.loc[gltc_df[\"country\"] == \"Russia\"]\n",
    "gltc11_df = gltc11_df.sort_values([\"year\"], ascending=[True]).\\\n",
    "                                reset_index(drop=True)\n",
    "print(len(gltc11_df.index))"
   ]
  },
  {
   "cell_type": "code",
   "execution_count": null,
   "metadata": {},
   "outputs": [],
   "source": [
    "# Get the min and max date range\n",
    "gltc11_min_tmp = gltc11_df[\"avg_yly_tmp_f\"].min()\n",
    "gltc11_max_tmp = gltc11_df[\"avg_yly_tmp_f\"].max()\n",
    "print(\"min temperature (F) \" + str(gltc11_min_tmp) +\\\n",
    "      \" max temperature (F) \" + str(gltc11_max_tmp))"
   ]
  },
  {
   "cell_type": "code",
   "execution_count": null,
   "metadata": {},
   "outputs": [],
   "source": [
    "# Get the min and max date range\n",
    "gltc11_min_date = gltc11_df[\"year\"].min()\n",
    "gltc11_max_date = gltc11_df[\"year\"].max()\n",
    "print(\"min year \" + str(gltc11_min_date) + \" max year \" + \\\n",
    "      str(gltc11_max_date))"
   ]
  },
  {
   "cell_type": "code",
   "execution_count": null,
   "metadata": {},
   "outputs": [],
   "source": [
    "# Dependencies\n",
    "from matplotlib.figure import Figure\n",
    "import matplotlib.pyplot as plt\n",
    "import pandas as pd\n",
    "import numpy as np\n",
    "import datetime as dt\n",
    "from datetime import datetime, date, time\n",
    "import matplotlib.dates as mdates\n",
    "\n",
    "fig = plt.figure(figsize=(12,6))\n",
    "ax = fig.add_subplot(111)\n",
    "\n",
    "x_axis = gltc11_df[\"year\"]  \n",
    "y_axis = gltc11_df[\"avg_yly_tmp_f\"]\n",
    "\n",
    "ax.set_title(\"Russia Average Temperatures 1812 - 2012\", weight='bold').set_fontsize('18')\n",
    "ax.set_xlabel(\"1812 - 2012\").set_fontsize('14')\n",
    "ax.set_ylabel(\"Average Temperatures(F)\").set_fontsize('14')\n",
    "\n",
    "ax.grid(True)\n",
    "ax.set_facecolor(\"whitesmoke\")\n",
    "linestyles = ['-', '--', '-.', ':']\n",
    "ax.plot(x_axis, y_axis, color=\"purple\", linestyle=linestyles[2], linewidth= 1)\n",
    "\n",
    "ax.legend([\"Russia Avg Temp (F)\"], loc=\"upper left\")\n",
    "\n",
    "plt.tight_layout()\n",
    "plt.savefig(\"./images/1812-2012_russia_temp_chart.png\")\n",
    "plt.show()"
   ]
  },
  {
   "cell_type": "code",
   "execution_count": null,
   "metadata": {},
   "outputs": [],
   "source": [
    "# Set the index to the date column for pandas df.plot()\n",
    "gltc12_df = gltc_df.loc[gltc_df[\"country\"] == \"South Africa\"]\n",
    "gltc12df = gltc12_df.sort_values([\"year\"], ascending=[True]).\\\n",
    "                                reset_index(drop=True)\n",
    "print(len(gltc12_df.index))"
   ]
  },
  {
   "cell_type": "code",
   "execution_count": null,
   "metadata": {},
   "outputs": [],
   "source": [
    "# Get the min and max date range\n",
    "gltc12_min_tmp = gltc12_df[\"avg_yly_tmp_f\"].min()\n",
    "gltc12_max_tmp = gltc12_df[\"avg_yly_tmp_f\"].max()\n",
    "print(\"min temperature (F) \" + str(gltc12_min_tmp) +\\\n",
    "      \" max temperature (F) \" + str(gltc12_max_tmp))"
   ]
  },
  {
   "cell_type": "code",
   "execution_count": null,
   "metadata": {},
   "outputs": [],
   "source": [
    "# Get the min and max date range\n",
    "gltc12_min_date = gltc12_df[\"year\"].min()\n",
    "gltc12_max_date = gltc12_df[\"year\"].max()\n",
    "print(\"min year \" + str(gltc12_min_date) + \" max year \" + \\\n",
    "      str(gltc12_max_date))"
   ]
  },
  {
   "cell_type": "code",
   "execution_count": null,
   "metadata": {},
   "outputs": [],
   "source": [
    "# Dependencies\n",
    "from matplotlib.figure import Figure\n",
    "import matplotlib.pyplot as plt\n",
    "import pandas as pd\n",
    "import numpy as np\n",
    "import datetime as dt\n",
    "from datetime import datetime, date, time\n",
    "import matplotlib.dates as mdates\n",
    "\n",
    "fig = plt.figure(figsize=(12,6))\n",
    "ax = fig.add_subplot(111)\n",
    "\n",
    "x_axis = gltc12_df[\"year\"]  \n",
    "y_axis = gltc12_df[\"avg_yly_tmp_f\"]\n",
    "\n",
    "ax.set_title(\"South Africa Average Temperatures 1858 - 2012\", weight='bold').set_fontsize('18')\n",
    "ax.set_xlabel(\"1857 - 2012\").set_fontsize('14')\n",
    "ax.set_ylabel(\"Average Temperatures(F)\").set_fontsize('14')\n",
    "\n",
    "ax.grid(True)\n",
    "ax.set_facecolor(\"whitesmoke\")\n",
    "linestyles = ['-', '--', '-.', ':']\n",
    "ax.plot(x_axis, y_axis, color=\"magenta\", linestyle=linestyles[2], linewidth= 1)\n",
    "\n",
    "ax.legend([\"Congo Avg Temp (F)\"], loc=\"upper left\")\n",
    "\n",
    "plt.tight_layout()\n",
    "plt.savefig(\"./images/1857-2012_south_africa_temp_chart.png\")\n",
    "plt.show()"
   ]
  },
  {
   "cell_type": "code",
   "execution_count": null,
   "metadata": {},
   "outputs": [],
   "source": [
    "from pandas.plotting import lag_plot\n",
    "\n",
    "plt.figure()\n",
    "data = gltc1_df[\"avg_yly_tmp_f\"]\n",
    "lag_plot(data)\n",
    "\n",
    "plt.tight_layout()\n",
    "plt.savefig(\"./images/usa_lag-plot_temp.png\")\n",
    "plt.show()"
   ]
  },
  {
   "cell_type": "code",
   "execution_count": null,
   "metadata": {},
   "outputs": [],
   "source": [
    "from pandas.plotting import lag_plot\n",
    "\n",
    "plt.figure()\n",
    "data = gltc2_df[\"avg_yly_tmp_f\"]\n",
    "lag_plot(data)\n",
    "\n",
    "plt.tight_layout()\n",
    "plt.savefig(\"./images/canada_lag-plot_temp.png\")\n",
    "plt.show()"
   ]
  },
  {
   "cell_type": "code",
   "execution_count": null,
   "metadata": {},
   "outputs": [],
   "source": [
    "from pandas.plotting import lag_plot\n",
    "\n",
    "plt.figure()\n",
    "data = gltc3_df[\"avg_yly_tmp_f\"]\n",
    "lag_plot(data)\n",
    "\n",
    "plt.tight_layout()\n",
    "plt.savefig(\"./images/france_lag-plot_temp.png\")\n",
    "plt.show()"
   ]
  },
  {
   "cell_type": "code",
   "execution_count": null,
   "metadata": {},
   "outputs": [],
   "source": [
    "from pandas.plotting import lag_plot\n",
    "\n",
    "plt.figure()\n",
    "data = gltc4_df[\"avg_yly_tmp_f\"]\n",
    "lag_plot(data)\n",
    "\n",
    "plt.tight_layout()\n",
    "plt.savefig(\"./images/germany_lag-plot_temp.png\")\n",
    "plt.show()"
   ]
  },
  {
   "cell_type": "code",
   "execution_count": null,
   "metadata": {},
   "outputs": [],
   "source": [
    "from pandas.plotting import lag_plot\n",
    "\n",
    "plt.figure()\n",
    "data = gltc5_df[\"avg_yly_tmp_f\"]\n",
    "lag_plot(data)\n",
    "\n",
    "plt.tight_layout()\n",
    "plt.savefig(\"./images/italy_lag-plot_temp.png\")\n",
    "plt.show()"
   ]
  },
  {
   "cell_type": "code",
   "execution_count": null,
   "metadata": {},
   "outputs": [],
   "source": [
    "from pandas.plotting import lag_plot\n",
    "\n",
    "plt.figure()\n",
    "data = gltc6_df[\"avg_yly_tmp_f\"]\n",
    "lag_plot(data)\n",
    "\n",
    "plt.tight_layout()\n",
    "plt.savefig(\"./images/uk_lag-plot_temp.png\")\n",
    "plt.show()"
   ]
  },
  {
   "cell_type": "code",
   "execution_count": null,
   "metadata": {},
   "outputs": [],
   "source": [
    "from pandas.plotting import lag_plot\n",
    "\n",
    "plt.figure()\n",
    "data = gltc7_df[\"avg_yly_tmp_f\"]\n",
    "lag_plot(data)\n",
    "\n",
    "plt.tight_layout()\n",
    "plt.savefig(\"./images/spain_lag-plot_temp.png\")\n",
    "plt.show()"
   ]
  },
  {
   "cell_type": "code",
   "execution_count": null,
   "metadata": {},
   "outputs": [],
   "source": [
    "from pandas.plotting import lag_plot\n",
    "\n",
    "plt.figure()\n",
    "data = gltc8_df[\"avg_yly_tmp_f\"]\n",
    "lag_plot(data)\n",
    "\n",
    "plt.tight_layout()\n",
    "plt.savefig(\"./images/china_lag-plot_temp.png\")\n",
    "plt.show()"
   ]
  },
  {
   "cell_type": "code",
   "execution_count": null,
   "metadata": {},
   "outputs": [],
   "source": [
    "from pandas.plotting import lag_plot\n",
    "\n",
    "plt.figure()\n",
    "data = gltc9_df[\"avg_yly_tmp_f\"]\n",
    "lag_plot(data)\n",
    "\n",
    "plt.tight_layout()\n",
    "plt.savefig(\"./images/india_lag-plot_temp.png\")\n",
    "plt.show()"
   ]
  },
  {
   "cell_type": "code",
   "execution_count": null,
   "metadata": {},
   "outputs": [],
   "source": [
    "from pandas.plotting import lag_plot\n",
    "\n",
    "plt.figure()\n",
    "data = gltc10_df[\"avg_yly_tmp_f\"]\n",
    "lag_plot(data)\n",
    "\n",
    "plt.tight_layout()\n",
    "plt.savefig(\"./images/turkey_lag-plot_temp.png\")\n",
    "plt.show()"
   ]
  },
  {
   "cell_type": "code",
   "execution_count": null,
   "metadata": {},
   "outputs": [],
   "source": [
    "from pandas.plotting import lag_plot\n",
    "\n",
    "plt.figure()\n",
    "data = gltc11_df[\"avg_yly_tmp_f\"]\n",
    "lag_plot(data)\n",
    "\n",
    "plt.tight_layout()\n",
    "plt.savefig(\"./images/russia_lag-plot_temp.png\")\n",
    "plt.show()"
   ]
  },
  {
   "cell_type": "code",
   "execution_count": null,
   "metadata": {},
   "outputs": [],
   "source": [
    "from pandas.plotting import lag_plot\n",
    "\n",
    "plt.figure()\n",
    "data = gltc12_df[\"avg_yly_tmp_f\"]\n",
    "lag_plot(data)\n",
    "\n",
    "plt.tight_layout()\n",
    "plt.savefig(\"./images/south_africa_lag-plot_temp.png\")\n",
    "plt.show()"
   ]
  },
  {
   "cell_type": "code",
   "execution_count": null,
   "metadata": {
    "collapsed": true
   },
   "outputs": [],
   "source": []
  }
 ],
 "metadata": {
  "kernelspec": {
   "display_name": "Python 3",
   "language": "python",
   "name": "python3"
  },
  "language_info": {
   "codemirror_mode": {
    "name": "ipython",
    "version": 3
   },
   "file_extension": ".py",
   "mimetype": "text/x-python",
   "name": "python",
   "nbconvert_exporter": "python",
   "pygments_lexer": "ipython3",
   "version": "3.6.1"
  }
 },
 "nbformat": 4,
 "nbformat_minor": 2
}
